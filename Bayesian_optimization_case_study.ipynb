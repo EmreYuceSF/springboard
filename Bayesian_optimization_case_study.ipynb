{
  "cells": [
    {
      "cell_type": "markdown",
      "metadata": {
        "id": "view-in-github",
        "colab_type": "text"
      },
      "source": [
        "<a href=\"https://colab.research.google.com/github/EmreYuceSF/springboard/blob/main/Bayesian_optimization_case_study.ipynb\" target=\"_parent\"><img src=\"https://colab.research.google.com/assets/colab-badge.svg\" alt=\"Open In Colab\"/></a>"
      ]
    },
    {
      "cell_type": "markdown",
      "metadata": {
        "id": "WNK7vbHo-KYU"
      },
      "source": [
        "## Bayesian methods of hyperparameter optimization"
      ]
    },
    {
      "cell_type": "markdown",
      "metadata": {
        "id": "BlFdvPwF-KYW"
      },
      "source": [
        "In addition to the random search and the grid search methods for selecting optimal hyperparameters, we can use Bayesian methods of probabilities to select the optimal hyperparameters for an algorithm.\n",
        "\n",
        "In this case study, we will be using the BayesianOptimization library to perform hyperparmater tuning. This library has very good documentation which you can find here: https://github.com/fmfn/BayesianOptimization\n",
        "\n",
        "You will need to install the Bayesian optimization module. Running a cell with an exclamation point in the beginning of the command will run it as a shell command — please do this to install this module from our notebook in the cell below."
      ]
    },
    {
      "cell_type": "code",
      "execution_count": 9,
      "metadata": {
        "colab": {
          "base_uri": "https://localhost:8080/"
        },
        "id": "Pssx080d-Ulf",
        "outputId": "dcd6fbf6-9b90-4cf7-b3bf-250b700e2285"
      },
      "outputs": [
        {
          "output_type": "stream",
          "name": "stdout",
          "text": [
            "Requirement already satisfied: bayesian-optimization in /usr/local/lib/python3.10/dist-packages (2.0.0)\n",
            "Requirement already satisfied: lightgbm in /usr/local/lib/python3.10/dist-packages (4.5.0)\n",
            "Requirement already satisfied: catboost in /usr/local/lib/python3.10/dist-packages (1.2.7)\n",
            "Requirement already satisfied: colorama<0.5.0,>=0.4.6 in /usr/local/lib/python3.10/dist-packages (from bayesian-optimization) (0.4.6)\n",
            "Requirement already satisfied: numpy>=1.25 in /usr/local/lib/python3.10/dist-packages (from bayesian-optimization) (1.26.4)\n",
            "Requirement already satisfied: scikit-learn<2.0.0,>=1.0.0 in /usr/local/lib/python3.10/dist-packages (from bayesian-optimization) (1.5.2)\n",
            "Requirement already satisfied: scipy<2.0.0,>=1.0.0 in /usr/local/lib/python3.10/dist-packages (from bayesian-optimization) (1.13.1)\n",
            "Requirement already satisfied: graphviz in /usr/local/lib/python3.10/dist-packages (from catboost) (0.20.3)\n",
            "Requirement already satisfied: matplotlib in /usr/local/lib/python3.10/dist-packages (from catboost) (3.8.0)\n",
            "Requirement already satisfied: pandas>=0.24 in /usr/local/lib/python3.10/dist-packages (from catboost) (2.2.2)\n",
            "Requirement already satisfied: plotly in /usr/local/lib/python3.10/dist-packages (from catboost) (5.24.1)\n",
            "Requirement already satisfied: six in /usr/local/lib/python3.10/dist-packages (from catboost) (1.16.0)\n",
            "Requirement already satisfied: python-dateutil>=2.8.2 in /usr/local/lib/python3.10/dist-packages (from pandas>=0.24->catboost) (2.8.2)\n",
            "Requirement already satisfied: pytz>=2020.1 in /usr/local/lib/python3.10/dist-packages (from pandas>=0.24->catboost) (2024.2)\n",
            "Requirement already satisfied: tzdata>=2022.7 in /usr/local/lib/python3.10/dist-packages (from pandas>=0.24->catboost) (2024.2)\n",
            "Requirement already satisfied: joblib>=1.2.0 in /usr/local/lib/python3.10/dist-packages (from scikit-learn<2.0.0,>=1.0.0->bayesian-optimization) (1.4.2)\n",
            "Requirement already satisfied: threadpoolctl>=3.1.0 in /usr/local/lib/python3.10/dist-packages (from scikit-learn<2.0.0,>=1.0.0->bayesian-optimization) (3.5.0)\n",
            "Requirement already satisfied: contourpy>=1.0.1 in /usr/local/lib/python3.10/dist-packages (from matplotlib->catboost) (1.3.0)\n",
            "Requirement already satisfied: cycler>=0.10 in /usr/local/lib/python3.10/dist-packages (from matplotlib->catboost) (0.12.1)\n",
            "Requirement already satisfied: fonttools>=4.22.0 in /usr/local/lib/python3.10/dist-packages (from matplotlib->catboost) (4.54.1)\n",
            "Requirement already satisfied: kiwisolver>=1.0.1 in /usr/local/lib/python3.10/dist-packages (from matplotlib->catboost) (1.4.7)\n",
            "Requirement already satisfied: packaging>=20.0 in /usr/local/lib/python3.10/dist-packages (from matplotlib->catboost) (24.1)\n",
            "Requirement already satisfied: pillow>=6.2.0 in /usr/local/lib/python3.10/dist-packages (from matplotlib->catboost) (10.4.0)\n",
            "Requirement already satisfied: pyparsing>=2.3.1 in /usr/local/lib/python3.10/dist-packages (from matplotlib->catboost) (3.2.0)\n",
            "Requirement already satisfied: tenacity>=6.2.0 in /usr/local/lib/python3.10/dist-packages (from plotly->catboost) (9.0.0)\n"
          ]
        }
      ],
      "source": [
        "! pip install bayesian-optimization lightgbm catboost\n"
      ]
    },
    {
      "cell_type": "code",
      "execution_count": 10,
      "metadata": {
        "ExecuteTime": {
          "end_time": "2019-04-22T16:39:09.312682Z",
          "start_time": "2019-04-22T16:39:09.309208Z"
        },
        "_kg_hide-input": true,
        "id": "l9nfFTyj-KYY"
      },
      "outputs": [],
      "source": [
        "import warnings\n",
        "warnings.filterwarnings('ignore')\n",
        "from sklearn.preprocessing import LabelEncoder\n",
        "import numpy as np\n",
        "import pandas as pd\n",
        "import lightgbm\n",
        "from bayes_opt import BayesianOptimization\n",
        "from catboost import CatBoostClassifier, cv, Pool"
      ]
    },
    {
      "cell_type": "code",
      "execution_count": 11,
      "metadata": {
        "colab": {
          "base_uri": "https://localhost:8080/"
        },
        "id": "D16Dquw1AAK0",
        "outputId": "bfc58f92-19b8-4528-813d-e5a24a7d4b8c"
      },
      "outputs": [
        {
          "output_type": "execute_result",
          "data": {
            "text/plain": [
              "['.config', 'flight_delays_train.csv', 'flight_delays_test.csv', 'sample_data']"
            ]
          },
          "metadata": {},
          "execution_count": 11
        }
      ],
      "source": [
        "import os\n",
        "os.listdir()"
      ]
    },
    {
      "cell_type": "markdown",
      "metadata": {
        "ExecuteTime": {
          "end_time": "2019-04-22T14:48:15.929012Z",
          "start_time": "2019-04-22T14:48:15.926574Z"
        },
        "id": "AkBt3yds-KYu"
      },
      "source": [
        "## How does Bayesian optimization work?"
      ]
    },
    {
      "cell_type": "markdown",
      "metadata": {
        "id": "E1kyBCUs-KYv"
      },
      "source": [
        "Bayesian optimization works by constructing a posterior distribution of functions (Gaussian process) that best describes the function you want to optimize. As the number of observations grows, the posterior distribution improves, and the algorithm becomes more certain of which regions in parameter space are worth exploring and which are not, as seen in the picture below."
      ]
    },
    {
      "cell_type": "markdown",
      "metadata": {
        "id": "gAdHF72R-KYw"
      },
      "source": [
        "<img src=\"https://github.com/fmfn/BayesianOptimization/blob/master/examples/bo_example.png?raw=true\" />\n",
        "As you iterate over and over, the algorithm balances its needs of exploration and exploitation while taking into account what it knows about the target function. At each step, a Gaussian Process is fitted to the known samples (points previously explored), and the posterior distribution, combined with an exploration strategy (such as UCB — aka Upper Confidence Bound), or EI (Expected Improvement). This process is used to determine the next point that should be explored (see the gif below).\n",
        "<img src=\"https://github.com/fmfn/BayesianOptimization/raw/master/examples/bayesian_optimization.gif\" />"
      ]
    },
    {
      "cell_type": "markdown",
      "metadata": {
        "id": "RTP8KUlLoYzu"
      },
      "source": [
        "## Let's look at a simple example"
      ]
    },
    {
      "cell_type": "markdown",
      "metadata": {
        "id": "crpPqKdC-KYx"
      },
      "source": [
        "The first step is to create an optimizer. It uses two items:\n",
        "* function to optimize\n",
        "* bounds of parameters\n",
        "\n",
        "The function is the procedure that counts metrics of our model quality. The important thing is that our optimization will maximize the value on function. Smaller metrics are best. Hint: don't forget to use negative metric values."
      ]
    },
    {
      "cell_type": "markdown",
      "metadata": {
        "id": "e09ciF8gpTfr"
      },
      "source": [
        "Here we define our simple function we want to optimize."
      ]
    },
    {
      "cell_type": "code",
      "execution_count": 12,
      "metadata": {
        "id": "ofwvnfEwo5mG"
      },
      "outputs": [],
      "source": [
        "def simple_func(a, b):\n",
        "    return a + b"
      ]
    },
    {
      "cell_type": "markdown",
      "metadata": {
        "id": "XCGsdciCpeI3"
      },
      "source": [
        "Now, we define our bounds of the parameters to optimize, within the Bayesian optimizer."
      ]
    },
    {
      "cell_type": "code",
      "execution_count": 13,
      "metadata": {
        "id": "4jLYW2qnpOFr"
      },
      "outputs": [],
      "source": [
        "optimizer = BayesianOptimization(\n",
        "    simple_func,\n",
        "    {'a': (1, 3),\n",
        "    'b': (4, 7)})"
      ]
    },
    {
      "cell_type": "markdown",
      "metadata": {
        "id": "dg6LdYx8pq2T"
      },
      "source": [
        "These are the main parameters of this function:\n",
        "\n",
        "* **n_iter:** This is how many steps of Bayesian optimization you want to perform. The more steps, the more likely you are to find a good maximum.\n",
        "\n",
        "* **init_points:** This is how many steps of random exploration you want to perform. Random exploration can help by diversifying the exploration space."
      ]
    },
    {
      "cell_type": "markdown",
      "metadata": {
        "id": "i-GKMJ1uqMYv"
      },
      "source": [
        "Let's run an example where we use the optimizer to find the best values to maximize the target value for a and b given the inputs of 3 and 2."
      ]
    },
    {
      "cell_type": "code",
      "execution_count": 14,
      "metadata": {
        "colab": {
          "base_uri": "https://localhost:8080/"
        },
        "id": "Oy44Ro7wqNat",
        "outputId": "8bbca99f-3c40-47cc-bd93-836e082e7180"
      },
      "outputs": [
        {
          "output_type": "stream",
          "name": "stdout",
          "text": [
            "|   iter    |  target   |     a     |     b     |\n",
            "-------------------------------------------------\n",
            "| \u001b[39m1        \u001b[39m | \u001b[39m7.58     \u001b[39m | \u001b[39m1.257    \u001b[39m | \u001b[39m6.323    \u001b[39m |\n",
            "| \u001b[39m2        \u001b[39m | \u001b[39m6.71     \u001b[39m | \u001b[39m1.211    \u001b[39m | \u001b[39m5.499    \u001b[39m |\n",
            "| \u001b[35m3        \u001b[39m | \u001b[35m7.696    \u001b[39m | \u001b[35m1.06     \u001b[39m | \u001b[35m6.635    \u001b[39m |\n",
            "| \u001b[35m4        \u001b[39m | \u001b[35m8.749    \u001b[39m | \u001b[35m1.752    \u001b[39m | \u001b[35m6.998    \u001b[39m |\n",
            "| \u001b[35m5        \u001b[39m | \u001b[35m9.674    \u001b[39m | \u001b[35m2.686    \u001b[39m | \u001b[35m6.988    \u001b[39m |\n",
            "=================================================\n"
          ]
        }
      ],
      "source": [
        "optimizer.maximize(3,2)"
      ]
    },
    {
      "cell_type": "markdown",
      "metadata": {
        "id": "tyKFMF2Hq2Sx"
      },
      "source": [
        "Great, now let's print the best parameters and the associated maximized target."
      ]
    },
    {
      "cell_type": "code",
      "execution_count": 15,
      "metadata": {
        "colab": {
          "base_uri": "https://localhost:8080/"
        },
        "id": "_H6DixyfscV_",
        "outputId": "bb1a87dd-9cbb-4231-ba0e-5eea5b4e3273"
      },
      "outputs": [
        {
          "output_type": "stream",
          "name": "stdout",
          "text": [
            "{'a': 2.6857522230187234, 'b': 6.988354732525355}\n"
          ]
        },
        {
          "output_type": "execute_result",
          "data": {
            "text/plain": [
              "9.67410695554408"
            ]
          },
          "metadata": {},
          "execution_count": 15
        }
      ],
      "source": [
        "print(optimizer.max['params']);optimizer.max['target']"
      ]
    },
    {
      "cell_type": "markdown",
      "metadata": {
        "id": "tQ1T1V6Mspi4"
      },
      "source": [
        "## Test it on real data using the Light GBM"
      ]
    },
    {
      "cell_type": "markdown",
      "metadata": {
        "id": "y_oGwREZkm4h"
      },
      "source": [
        "The dataset we will be working with is the famous flight departures dataset. Our modeling goal will be to predict if a flight departure is going to be delayed by 15 minutes based on the other attributes in our dataset. As part of this modeling exercise, we will use Bayesian hyperparameter optimization to identify the best parameters for our model."
      ]
    },
    {
      "cell_type": "markdown",
      "metadata": {
        "id": "abYSagjQANDZ"
      },
      "source": [
        "**<font color='teal'> You can load the zipped csv files just as you would regular csv files using Pandas read_csv. In the next cell load the train and test data into two seperate dataframes. </font>**\n"
      ]
    },
    {
      "cell_type": "code",
      "execution_count": 16,
      "metadata": {
        "id": "EWKBApVuAeJe"
      },
      "outputs": [],
      "source": [
        "train_df = pd.read_csv('./flight_delays_train.csv')\n",
        "test_df = pd.read_csv('./flight_delays_test.csv')"
      ]
    },
    {
      "cell_type": "markdown",
      "metadata": {
        "id": "OapNcT9Eikis"
      },
      "source": [
        "**<font color='teal'> Print the top five rows of the train dataframe and review the columns in the data. </font>**"
      ]
    },
    {
      "cell_type": "code",
      "execution_count": 17,
      "metadata": {
        "colab": {
          "base_uri": "https://localhost:8080/",
          "height": 206
        },
        "id": "__4cXZ8iiYaC",
        "outputId": "8e502db3-905a-48e9-df3a-1d1f2ef05157"
      },
      "outputs": [
        {
          "output_type": "execute_result",
          "data": {
            "text/plain": [
              "  Month DayofMonth DayOfWeek  DepTime UniqueCarrier Origin Dest  Distance  \\\n",
              "0   c-8       c-21       c-7     1934            AA    ATL  DFW       732   \n",
              "1   c-4       c-20       c-3     1548            US    PIT  MCO       834   \n",
              "2   c-9        c-2       c-5     1422            XE    RDU  CLE       416   \n",
              "3  c-11       c-25       c-6     1015            OO    DEN  MEM       872   \n",
              "4  c-10        c-7       c-6     1828            WN    MDW  OMA       423   \n",
              "\n",
              "  dep_delayed_15min  \n",
              "0                 N  \n",
              "1                 N  \n",
              "2                 N  \n",
              "3                 N  \n",
              "4                 Y  "
            ],
            "text/html": [
              "\n",
              "  <div id=\"df-27e6e367-025e-4e87-a3b6-913f31f73953\" class=\"colab-df-container\">\n",
              "    <div>\n",
              "<style scoped>\n",
              "    .dataframe tbody tr th:only-of-type {\n",
              "        vertical-align: middle;\n",
              "    }\n",
              "\n",
              "    .dataframe tbody tr th {\n",
              "        vertical-align: top;\n",
              "    }\n",
              "\n",
              "    .dataframe thead th {\n",
              "        text-align: right;\n",
              "    }\n",
              "</style>\n",
              "<table border=\"1\" class=\"dataframe\">\n",
              "  <thead>\n",
              "    <tr style=\"text-align: right;\">\n",
              "      <th></th>\n",
              "      <th>Month</th>\n",
              "      <th>DayofMonth</th>\n",
              "      <th>DayOfWeek</th>\n",
              "      <th>DepTime</th>\n",
              "      <th>UniqueCarrier</th>\n",
              "      <th>Origin</th>\n",
              "      <th>Dest</th>\n",
              "      <th>Distance</th>\n",
              "      <th>dep_delayed_15min</th>\n",
              "    </tr>\n",
              "  </thead>\n",
              "  <tbody>\n",
              "    <tr>\n",
              "      <th>0</th>\n",
              "      <td>c-8</td>\n",
              "      <td>c-21</td>\n",
              "      <td>c-7</td>\n",
              "      <td>1934</td>\n",
              "      <td>AA</td>\n",
              "      <td>ATL</td>\n",
              "      <td>DFW</td>\n",
              "      <td>732</td>\n",
              "      <td>N</td>\n",
              "    </tr>\n",
              "    <tr>\n",
              "      <th>1</th>\n",
              "      <td>c-4</td>\n",
              "      <td>c-20</td>\n",
              "      <td>c-3</td>\n",
              "      <td>1548</td>\n",
              "      <td>US</td>\n",
              "      <td>PIT</td>\n",
              "      <td>MCO</td>\n",
              "      <td>834</td>\n",
              "      <td>N</td>\n",
              "    </tr>\n",
              "    <tr>\n",
              "      <th>2</th>\n",
              "      <td>c-9</td>\n",
              "      <td>c-2</td>\n",
              "      <td>c-5</td>\n",
              "      <td>1422</td>\n",
              "      <td>XE</td>\n",
              "      <td>RDU</td>\n",
              "      <td>CLE</td>\n",
              "      <td>416</td>\n",
              "      <td>N</td>\n",
              "    </tr>\n",
              "    <tr>\n",
              "      <th>3</th>\n",
              "      <td>c-11</td>\n",
              "      <td>c-25</td>\n",
              "      <td>c-6</td>\n",
              "      <td>1015</td>\n",
              "      <td>OO</td>\n",
              "      <td>DEN</td>\n",
              "      <td>MEM</td>\n",
              "      <td>872</td>\n",
              "      <td>N</td>\n",
              "    </tr>\n",
              "    <tr>\n",
              "      <th>4</th>\n",
              "      <td>c-10</td>\n",
              "      <td>c-7</td>\n",
              "      <td>c-6</td>\n",
              "      <td>1828</td>\n",
              "      <td>WN</td>\n",
              "      <td>MDW</td>\n",
              "      <td>OMA</td>\n",
              "      <td>423</td>\n",
              "      <td>Y</td>\n",
              "    </tr>\n",
              "  </tbody>\n",
              "</table>\n",
              "</div>\n",
              "    <div class=\"colab-df-buttons\">\n",
              "\n",
              "  <div class=\"colab-df-container\">\n",
              "    <button class=\"colab-df-convert\" onclick=\"convertToInteractive('df-27e6e367-025e-4e87-a3b6-913f31f73953')\"\n",
              "            title=\"Convert this dataframe to an interactive table.\"\n",
              "            style=\"display:none;\">\n",
              "\n",
              "  <svg xmlns=\"http://www.w3.org/2000/svg\" height=\"24px\" viewBox=\"0 -960 960 960\">\n",
              "    <path d=\"M120-120v-720h720v720H120Zm60-500h600v-160H180v160Zm220 220h160v-160H400v160Zm0 220h160v-160H400v160ZM180-400h160v-160H180v160Zm440 0h160v-160H620v160ZM180-180h160v-160H180v160Zm440 0h160v-160H620v160Z\"/>\n",
              "  </svg>\n",
              "    </button>\n",
              "\n",
              "  <style>\n",
              "    .colab-df-container {\n",
              "      display:flex;\n",
              "      gap: 12px;\n",
              "    }\n",
              "\n",
              "    .colab-df-convert {\n",
              "      background-color: #E8F0FE;\n",
              "      border: none;\n",
              "      border-radius: 50%;\n",
              "      cursor: pointer;\n",
              "      display: none;\n",
              "      fill: #1967D2;\n",
              "      height: 32px;\n",
              "      padding: 0 0 0 0;\n",
              "      width: 32px;\n",
              "    }\n",
              "\n",
              "    .colab-df-convert:hover {\n",
              "      background-color: #E2EBFA;\n",
              "      box-shadow: 0px 1px 2px rgba(60, 64, 67, 0.3), 0px 1px 3px 1px rgba(60, 64, 67, 0.15);\n",
              "      fill: #174EA6;\n",
              "    }\n",
              "\n",
              "    .colab-df-buttons div {\n",
              "      margin-bottom: 4px;\n",
              "    }\n",
              "\n",
              "    [theme=dark] .colab-df-convert {\n",
              "      background-color: #3B4455;\n",
              "      fill: #D2E3FC;\n",
              "    }\n",
              "\n",
              "    [theme=dark] .colab-df-convert:hover {\n",
              "      background-color: #434B5C;\n",
              "      box-shadow: 0px 1px 3px 1px rgba(0, 0, 0, 0.15);\n",
              "      filter: drop-shadow(0px 1px 2px rgba(0, 0, 0, 0.3));\n",
              "      fill: #FFFFFF;\n",
              "    }\n",
              "  </style>\n",
              "\n",
              "    <script>\n",
              "      const buttonEl =\n",
              "        document.querySelector('#df-27e6e367-025e-4e87-a3b6-913f31f73953 button.colab-df-convert');\n",
              "      buttonEl.style.display =\n",
              "        google.colab.kernel.accessAllowed ? 'block' : 'none';\n",
              "\n",
              "      async function convertToInteractive(key) {\n",
              "        const element = document.querySelector('#df-27e6e367-025e-4e87-a3b6-913f31f73953');\n",
              "        const dataTable =\n",
              "          await google.colab.kernel.invokeFunction('convertToInteractive',\n",
              "                                                    [key], {});\n",
              "        if (!dataTable) return;\n",
              "\n",
              "        const docLinkHtml = 'Like what you see? Visit the ' +\n",
              "          '<a target=\"_blank\" href=https://colab.research.google.com/notebooks/data_table.ipynb>data table notebook</a>'\n",
              "          + ' to learn more about interactive tables.';\n",
              "        element.innerHTML = '';\n",
              "        dataTable['output_type'] = 'display_data';\n",
              "        await google.colab.output.renderOutput(dataTable, element);\n",
              "        const docLink = document.createElement('div');\n",
              "        docLink.innerHTML = docLinkHtml;\n",
              "        element.appendChild(docLink);\n",
              "      }\n",
              "    </script>\n",
              "  </div>\n",
              "\n",
              "\n",
              "<div id=\"df-6f15b79f-146b-44d8-9f29-fc0aada66287\">\n",
              "  <button class=\"colab-df-quickchart\" onclick=\"quickchart('df-6f15b79f-146b-44d8-9f29-fc0aada66287')\"\n",
              "            title=\"Suggest charts\"\n",
              "            style=\"display:none;\">\n",
              "\n",
              "<svg xmlns=\"http://www.w3.org/2000/svg\" height=\"24px\"viewBox=\"0 0 24 24\"\n",
              "     width=\"24px\">\n",
              "    <g>\n",
              "        <path d=\"M19 3H5c-1.1 0-2 .9-2 2v14c0 1.1.9 2 2 2h14c1.1 0 2-.9 2-2V5c0-1.1-.9-2-2-2zM9 17H7v-7h2v7zm4 0h-2V7h2v10zm4 0h-2v-4h2v4z\"/>\n",
              "    </g>\n",
              "</svg>\n",
              "  </button>\n",
              "\n",
              "<style>\n",
              "  .colab-df-quickchart {\n",
              "      --bg-color: #E8F0FE;\n",
              "      --fill-color: #1967D2;\n",
              "      --hover-bg-color: #E2EBFA;\n",
              "      --hover-fill-color: #174EA6;\n",
              "      --disabled-fill-color: #AAA;\n",
              "      --disabled-bg-color: #DDD;\n",
              "  }\n",
              "\n",
              "  [theme=dark] .colab-df-quickchart {\n",
              "      --bg-color: #3B4455;\n",
              "      --fill-color: #D2E3FC;\n",
              "      --hover-bg-color: #434B5C;\n",
              "      --hover-fill-color: #FFFFFF;\n",
              "      --disabled-bg-color: #3B4455;\n",
              "      --disabled-fill-color: #666;\n",
              "  }\n",
              "\n",
              "  .colab-df-quickchart {\n",
              "    background-color: var(--bg-color);\n",
              "    border: none;\n",
              "    border-radius: 50%;\n",
              "    cursor: pointer;\n",
              "    display: none;\n",
              "    fill: var(--fill-color);\n",
              "    height: 32px;\n",
              "    padding: 0;\n",
              "    width: 32px;\n",
              "  }\n",
              "\n",
              "  .colab-df-quickchart:hover {\n",
              "    background-color: var(--hover-bg-color);\n",
              "    box-shadow: 0 1px 2px rgba(60, 64, 67, 0.3), 0 1px 3px 1px rgba(60, 64, 67, 0.15);\n",
              "    fill: var(--button-hover-fill-color);\n",
              "  }\n",
              "\n",
              "  .colab-df-quickchart-complete:disabled,\n",
              "  .colab-df-quickchart-complete:disabled:hover {\n",
              "    background-color: var(--disabled-bg-color);\n",
              "    fill: var(--disabled-fill-color);\n",
              "    box-shadow: none;\n",
              "  }\n",
              "\n",
              "  .colab-df-spinner {\n",
              "    border: 2px solid var(--fill-color);\n",
              "    border-color: transparent;\n",
              "    border-bottom-color: var(--fill-color);\n",
              "    animation:\n",
              "      spin 1s steps(1) infinite;\n",
              "  }\n",
              "\n",
              "  @keyframes spin {\n",
              "    0% {\n",
              "      border-color: transparent;\n",
              "      border-bottom-color: var(--fill-color);\n",
              "      border-left-color: var(--fill-color);\n",
              "    }\n",
              "    20% {\n",
              "      border-color: transparent;\n",
              "      border-left-color: var(--fill-color);\n",
              "      border-top-color: var(--fill-color);\n",
              "    }\n",
              "    30% {\n",
              "      border-color: transparent;\n",
              "      border-left-color: var(--fill-color);\n",
              "      border-top-color: var(--fill-color);\n",
              "      border-right-color: var(--fill-color);\n",
              "    }\n",
              "    40% {\n",
              "      border-color: transparent;\n",
              "      border-right-color: var(--fill-color);\n",
              "      border-top-color: var(--fill-color);\n",
              "    }\n",
              "    60% {\n",
              "      border-color: transparent;\n",
              "      border-right-color: var(--fill-color);\n",
              "    }\n",
              "    80% {\n",
              "      border-color: transparent;\n",
              "      border-right-color: var(--fill-color);\n",
              "      border-bottom-color: var(--fill-color);\n",
              "    }\n",
              "    90% {\n",
              "      border-color: transparent;\n",
              "      border-bottom-color: var(--fill-color);\n",
              "    }\n",
              "  }\n",
              "</style>\n",
              "\n",
              "  <script>\n",
              "    async function quickchart(key) {\n",
              "      const quickchartButtonEl =\n",
              "        document.querySelector('#' + key + ' button');\n",
              "      quickchartButtonEl.disabled = true;  // To prevent multiple clicks.\n",
              "      quickchartButtonEl.classList.add('colab-df-spinner');\n",
              "      try {\n",
              "        const charts = await google.colab.kernel.invokeFunction(\n",
              "            'suggestCharts', [key], {});\n",
              "      } catch (error) {\n",
              "        console.error('Error during call to suggestCharts:', error);\n",
              "      }\n",
              "      quickchartButtonEl.classList.remove('colab-df-spinner');\n",
              "      quickchartButtonEl.classList.add('colab-df-quickchart-complete');\n",
              "    }\n",
              "    (() => {\n",
              "      let quickchartButtonEl =\n",
              "        document.querySelector('#df-6f15b79f-146b-44d8-9f29-fc0aada66287 button');\n",
              "      quickchartButtonEl.style.display =\n",
              "        google.colab.kernel.accessAllowed ? 'block' : 'none';\n",
              "    })();\n",
              "  </script>\n",
              "</div>\n",
              "\n",
              "    </div>\n",
              "  </div>\n"
            ],
            "application/vnd.google.colaboratory.intrinsic+json": {
              "type": "dataframe",
              "variable_name": "train_df",
              "summary": "{\n  \"name\": \"train_df\",\n  \"rows\": 100000,\n  \"fields\": [\n    {\n      \"column\": \"Month\",\n      \"properties\": {\n        \"dtype\": \"category\",\n        \"num_unique_values\": 12,\n        \"samples\": [\n          \"c-12\",\n          \"c-3\",\n          \"c-8\"\n        ],\n        \"semantic_type\": \"\",\n        \"description\": \"\"\n      }\n    },\n    {\n      \"column\": \"DayofMonth\",\n      \"properties\": {\n        \"dtype\": \"category\",\n        \"num_unique_values\": 31,\n        \"samples\": [\n          \"c-12\",\n          \"c-22\",\n          \"c-24\"\n        ],\n        \"semantic_type\": \"\",\n        \"description\": \"\"\n      }\n    },\n    {\n      \"column\": \"DayOfWeek\",\n      \"properties\": {\n        \"dtype\": \"category\",\n        \"num_unique_values\": 7,\n        \"samples\": [\n          \"c-7\",\n          \"c-3\",\n          \"c-2\"\n        ],\n        \"semantic_type\": \"\",\n        \"description\": \"\"\n      }\n    },\n    {\n      \"column\": \"DepTime\",\n      \"properties\": {\n        \"dtype\": \"number\",\n        \"std\": 476,\n        \"min\": 1,\n        \"max\": 2534,\n        \"num_unique_values\": 1300,\n        \"samples\": [\n          1550,\n          839,\n          1149\n        ],\n        \"semantic_type\": \"\",\n        \"description\": \"\"\n      }\n    },\n    {\n      \"column\": \"UniqueCarrier\",\n      \"properties\": {\n        \"dtype\": \"category\",\n        \"num_unique_values\": 22,\n        \"samples\": [\n          \"AA\",\n          \"DH\",\n          \"AS\"\n        ],\n        \"semantic_type\": \"\",\n        \"description\": \"\"\n      }\n    },\n    {\n      \"column\": \"Origin\",\n      \"properties\": {\n        \"dtype\": \"category\",\n        \"num_unique_values\": 289,\n        \"samples\": [\n          \"BOS\",\n          \"SRQ\",\n          \"DLG\"\n        ],\n        \"semantic_type\": \"\",\n        \"description\": \"\"\n      }\n    },\n    {\n      \"column\": \"Dest\",\n      \"properties\": {\n        \"dtype\": \"category\",\n        \"num_unique_values\": 289,\n        \"samples\": [\n          \"JAN\",\n          \"SRQ\",\n          \"SCC\"\n        ],\n        \"semantic_type\": \"\",\n        \"description\": \"\"\n      }\n    },\n    {\n      \"column\": \"Distance\",\n      \"properties\": {\n        \"dtype\": \"number\",\n        \"std\": 574,\n        \"min\": 30,\n        \"max\": 4962,\n        \"num_unique_values\": 1310,\n        \"samples\": [\n          1142,\n          663,\n          2116\n        ],\n        \"semantic_type\": \"\",\n        \"description\": \"\"\n      }\n    },\n    {\n      \"column\": \"dep_delayed_15min\",\n      \"properties\": {\n        \"dtype\": \"category\",\n        \"num_unique_values\": 2,\n        \"samples\": [\n          \"Y\",\n          \"N\"\n        ],\n        \"semantic_type\": \"\",\n        \"description\": \"\"\n      }\n    }\n  ]\n}"
            }
          },
          "metadata": {},
          "execution_count": 17
        }
      ],
      "source": [
        "train_df.head()"
      ]
    },
    {
      "cell_type": "markdown",
      "metadata": {
        "id": "UxGBsPQhffgd"
      },
      "source": [
        "**<font color='teal'> Use the describe function to review the numeric columns in the train dataframe. </font>**"
      ]
    },
    {
      "cell_type": "code",
      "execution_count": 18,
      "metadata": {
        "colab": {
          "base_uri": "https://localhost:8080/",
          "height": 300
        },
        "id": "_bRRKG3DAtae",
        "outputId": "12247c30-44da-41e0-88dd-7e0496479a3f"
      },
      "outputs": [
        {
          "output_type": "execute_result",
          "data": {
            "text/plain": [
              "             DepTime      Distance\n",
              "count  100000.000000  100000.00000\n",
              "mean     1341.523880     729.39716\n",
              "std       476.378445     574.61686\n",
              "min         1.000000      30.00000\n",
              "25%       931.000000     317.00000\n",
              "50%      1330.000000     575.00000\n",
              "75%      1733.000000     957.00000\n",
              "max      2534.000000    4962.00000"
            ],
            "text/html": [
              "\n",
              "  <div id=\"df-1542bce6-afea-4f11-8761-a25161bde84b\" class=\"colab-df-container\">\n",
              "    <div>\n",
              "<style scoped>\n",
              "    .dataframe tbody tr th:only-of-type {\n",
              "        vertical-align: middle;\n",
              "    }\n",
              "\n",
              "    .dataframe tbody tr th {\n",
              "        vertical-align: top;\n",
              "    }\n",
              "\n",
              "    .dataframe thead th {\n",
              "        text-align: right;\n",
              "    }\n",
              "</style>\n",
              "<table border=\"1\" class=\"dataframe\">\n",
              "  <thead>\n",
              "    <tr style=\"text-align: right;\">\n",
              "      <th></th>\n",
              "      <th>DepTime</th>\n",
              "      <th>Distance</th>\n",
              "    </tr>\n",
              "  </thead>\n",
              "  <tbody>\n",
              "    <tr>\n",
              "      <th>count</th>\n",
              "      <td>100000.000000</td>\n",
              "      <td>100000.00000</td>\n",
              "    </tr>\n",
              "    <tr>\n",
              "      <th>mean</th>\n",
              "      <td>1341.523880</td>\n",
              "      <td>729.39716</td>\n",
              "    </tr>\n",
              "    <tr>\n",
              "      <th>std</th>\n",
              "      <td>476.378445</td>\n",
              "      <td>574.61686</td>\n",
              "    </tr>\n",
              "    <tr>\n",
              "      <th>min</th>\n",
              "      <td>1.000000</td>\n",
              "      <td>30.00000</td>\n",
              "    </tr>\n",
              "    <tr>\n",
              "      <th>25%</th>\n",
              "      <td>931.000000</td>\n",
              "      <td>317.00000</td>\n",
              "    </tr>\n",
              "    <tr>\n",
              "      <th>50%</th>\n",
              "      <td>1330.000000</td>\n",
              "      <td>575.00000</td>\n",
              "    </tr>\n",
              "    <tr>\n",
              "      <th>75%</th>\n",
              "      <td>1733.000000</td>\n",
              "      <td>957.00000</td>\n",
              "    </tr>\n",
              "    <tr>\n",
              "      <th>max</th>\n",
              "      <td>2534.000000</td>\n",
              "      <td>4962.00000</td>\n",
              "    </tr>\n",
              "  </tbody>\n",
              "</table>\n",
              "</div>\n",
              "    <div class=\"colab-df-buttons\">\n",
              "\n",
              "  <div class=\"colab-df-container\">\n",
              "    <button class=\"colab-df-convert\" onclick=\"convertToInteractive('df-1542bce6-afea-4f11-8761-a25161bde84b')\"\n",
              "            title=\"Convert this dataframe to an interactive table.\"\n",
              "            style=\"display:none;\">\n",
              "\n",
              "  <svg xmlns=\"http://www.w3.org/2000/svg\" height=\"24px\" viewBox=\"0 -960 960 960\">\n",
              "    <path d=\"M120-120v-720h720v720H120Zm60-500h600v-160H180v160Zm220 220h160v-160H400v160Zm0 220h160v-160H400v160ZM180-400h160v-160H180v160Zm440 0h160v-160H620v160ZM180-180h160v-160H180v160Zm440 0h160v-160H620v160Z\"/>\n",
              "  </svg>\n",
              "    </button>\n",
              "\n",
              "  <style>\n",
              "    .colab-df-container {\n",
              "      display:flex;\n",
              "      gap: 12px;\n",
              "    }\n",
              "\n",
              "    .colab-df-convert {\n",
              "      background-color: #E8F0FE;\n",
              "      border: none;\n",
              "      border-radius: 50%;\n",
              "      cursor: pointer;\n",
              "      display: none;\n",
              "      fill: #1967D2;\n",
              "      height: 32px;\n",
              "      padding: 0 0 0 0;\n",
              "      width: 32px;\n",
              "    }\n",
              "\n",
              "    .colab-df-convert:hover {\n",
              "      background-color: #E2EBFA;\n",
              "      box-shadow: 0px 1px 2px rgba(60, 64, 67, 0.3), 0px 1px 3px 1px rgba(60, 64, 67, 0.15);\n",
              "      fill: #174EA6;\n",
              "    }\n",
              "\n",
              "    .colab-df-buttons div {\n",
              "      margin-bottom: 4px;\n",
              "    }\n",
              "\n",
              "    [theme=dark] .colab-df-convert {\n",
              "      background-color: #3B4455;\n",
              "      fill: #D2E3FC;\n",
              "    }\n",
              "\n",
              "    [theme=dark] .colab-df-convert:hover {\n",
              "      background-color: #434B5C;\n",
              "      box-shadow: 0px 1px 3px 1px rgba(0, 0, 0, 0.15);\n",
              "      filter: drop-shadow(0px 1px 2px rgba(0, 0, 0, 0.3));\n",
              "      fill: #FFFFFF;\n",
              "    }\n",
              "  </style>\n",
              "\n",
              "    <script>\n",
              "      const buttonEl =\n",
              "        document.querySelector('#df-1542bce6-afea-4f11-8761-a25161bde84b button.colab-df-convert');\n",
              "      buttonEl.style.display =\n",
              "        google.colab.kernel.accessAllowed ? 'block' : 'none';\n",
              "\n",
              "      async function convertToInteractive(key) {\n",
              "        const element = document.querySelector('#df-1542bce6-afea-4f11-8761-a25161bde84b');\n",
              "        const dataTable =\n",
              "          await google.colab.kernel.invokeFunction('convertToInteractive',\n",
              "                                                    [key], {});\n",
              "        if (!dataTable) return;\n",
              "\n",
              "        const docLinkHtml = 'Like what you see? Visit the ' +\n",
              "          '<a target=\"_blank\" href=https://colab.research.google.com/notebooks/data_table.ipynb>data table notebook</a>'\n",
              "          + ' to learn more about interactive tables.';\n",
              "        element.innerHTML = '';\n",
              "        dataTable['output_type'] = 'display_data';\n",
              "        await google.colab.output.renderOutput(dataTable, element);\n",
              "        const docLink = document.createElement('div');\n",
              "        docLink.innerHTML = docLinkHtml;\n",
              "        element.appendChild(docLink);\n",
              "      }\n",
              "    </script>\n",
              "  </div>\n",
              "\n",
              "\n",
              "<div id=\"df-e3163af8-ed8c-40a0-968a-a1449cb63512\">\n",
              "  <button class=\"colab-df-quickchart\" onclick=\"quickchart('df-e3163af8-ed8c-40a0-968a-a1449cb63512')\"\n",
              "            title=\"Suggest charts\"\n",
              "            style=\"display:none;\">\n",
              "\n",
              "<svg xmlns=\"http://www.w3.org/2000/svg\" height=\"24px\"viewBox=\"0 0 24 24\"\n",
              "     width=\"24px\">\n",
              "    <g>\n",
              "        <path d=\"M19 3H5c-1.1 0-2 .9-2 2v14c0 1.1.9 2 2 2h14c1.1 0 2-.9 2-2V5c0-1.1-.9-2-2-2zM9 17H7v-7h2v7zm4 0h-2V7h2v10zm4 0h-2v-4h2v4z\"/>\n",
              "    </g>\n",
              "</svg>\n",
              "  </button>\n",
              "\n",
              "<style>\n",
              "  .colab-df-quickchart {\n",
              "      --bg-color: #E8F0FE;\n",
              "      --fill-color: #1967D2;\n",
              "      --hover-bg-color: #E2EBFA;\n",
              "      --hover-fill-color: #174EA6;\n",
              "      --disabled-fill-color: #AAA;\n",
              "      --disabled-bg-color: #DDD;\n",
              "  }\n",
              "\n",
              "  [theme=dark] .colab-df-quickchart {\n",
              "      --bg-color: #3B4455;\n",
              "      --fill-color: #D2E3FC;\n",
              "      --hover-bg-color: #434B5C;\n",
              "      --hover-fill-color: #FFFFFF;\n",
              "      --disabled-bg-color: #3B4455;\n",
              "      --disabled-fill-color: #666;\n",
              "  }\n",
              "\n",
              "  .colab-df-quickchart {\n",
              "    background-color: var(--bg-color);\n",
              "    border: none;\n",
              "    border-radius: 50%;\n",
              "    cursor: pointer;\n",
              "    display: none;\n",
              "    fill: var(--fill-color);\n",
              "    height: 32px;\n",
              "    padding: 0;\n",
              "    width: 32px;\n",
              "  }\n",
              "\n",
              "  .colab-df-quickchart:hover {\n",
              "    background-color: var(--hover-bg-color);\n",
              "    box-shadow: 0 1px 2px rgba(60, 64, 67, 0.3), 0 1px 3px 1px rgba(60, 64, 67, 0.15);\n",
              "    fill: var(--button-hover-fill-color);\n",
              "  }\n",
              "\n",
              "  .colab-df-quickchart-complete:disabled,\n",
              "  .colab-df-quickchart-complete:disabled:hover {\n",
              "    background-color: var(--disabled-bg-color);\n",
              "    fill: var(--disabled-fill-color);\n",
              "    box-shadow: none;\n",
              "  }\n",
              "\n",
              "  .colab-df-spinner {\n",
              "    border: 2px solid var(--fill-color);\n",
              "    border-color: transparent;\n",
              "    border-bottom-color: var(--fill-color);\n",
              "    animation:\n",
              "      spin 1s steps(1) infinite;\n",
              "  }\n",
              "\n",
              "  @keyframes spin {\n",
              "    0% {\n",
              "      border-color: transparent;\n",
              "      border-bottom-color: var(--fill-color);\n",
              "      border-left-color: var(--fill-color);\n",
              "    }\n",
              "    20% {\n",
              "      border-color: transparent;\n",
              "      border-left-color: var(--fill-color);\n",
              "      border-top-color: var(--fill-color);\n",
              "    }\n",
              "    30% {\n",
              "      border-color: transparent;\n",
              "      border-left-color: var(--fill-color);\n",
              "      border-top-color: var(--fill-color);\n",
              "      border-right-color: var(--fill-color);\n",
              "    }\n",
              "    40% {\n",
              "      border-color: transparent;\n",
              "      border-right-color: var(--fill-color);\n",
              "      border-top-color: var(--fill-color);\n",
              "    }\n",
              "    60% {\n",
              "      border-color: transparent;\n",
              "      border-right-color: var(--fill-color);\n",
              "    }\n",
              "    80% {\n",
              "      border-color: transparent;\n",
              "      border-right-color: var(--fill-color);\n",
              "      border-bottom-color: var(--fill-color);\n",
              "    }\n",
              "    90% {\n",
              "      border-color: transparent;\n",
              "      border-bottom-color: var(--fill-color);\n",
              "    }\n",
              "  }\n",
              "</style>\n",
              "\n",
              "  <script>\n",
              "    async function quickchart(key) {\n",
              "      const quickchartButtonEl =\n",
              "        document.querySelector('#' + key + ' button');\n",
              "      quickchartButtonEl.disabled = true;  // To prevent multiple clicks.\n",
              "      quickchartButtonEl.classList.add('colab-df-spinner');\n",
              "      try {\n",
              "        const charts = await google.colab.kernel.invokeFunction(\n",
              "            'suggestCharts', [key], {});\n",
              "      } catch (error) {\n",
              "        console.error('Error during call to suggestCharts:', error);\n",
              "      }\n",
              "      quickchartButtonEl.classList.remove('colab-df-spinner');\n",
              "      quickchartButtonEl.classList.add('colab-df-quickchart-complete');\n",
              "    }\n",
              "    (() => {\n",
              "      let quickchartButtonEl =\n",
              "        document.querySelector('#df-e3163af8-ed8c-40a0-968a-a1449cb63512 button');\n",
              "      quickchartButtonEl.style.display =\n",
              "        google.colab.kernel.accessAllowed ? 'block' : 'none';\n",
              "    })();\n",
              "  </script>\n",
              "</div>\n",
              "\n",
              "    </div>\n",
              "  </div>\n"
            ],
            "application/vnd.google.colaboratory.intrinsic+json": {
              "type": "dataframe",
              "summary": "{\n  \"name\": \"train_df\",\n  \"rows\": 8,\n  \"fields\": [\n    {\n      \"column\": \"DepTime\",\n      \"properties\": {\n        \"dtype\": \"number\",\n        \"std\": 34942.20805093879,\n        \"min\": 1.0,\n        \"max\": 100000.0,\n        \"num_unique_values\": 8,\n        \"samples\": [\n          1341.52388,\n          1330.0,\n          100000.0\n        ],\n        \"semantic_type\": \"\",\n        \"description\": \"\"\n      }\n    },\n    {\n      \"column\": \"Distance\",\n      \"properties\": {\n        \"dtype\": \"number\",\n        \"std\": 34979.40925865424,\n        \"min\": 30.0,\n        \"max\": 100000.0,\n        \"num_unique_values\": 8,\n        \"samples\": [\n          729.39716,\n          575.0,\n          100000.0\n        ],\n        \"semantic_type\": \"\",\n        \"description\": \"\"\n      }\n    }\n  ]\n}"
            }
          },
          "metadata": {},
          "execution_count": 18
        }
      ],
      "source": [
        "train_df.describe()"
      ]
    },
    {
      "cell_type": "markdown",
      "metadata": {
        "id": "i6k-_fI5Aiyh"
      },
      "source": [
        "Notice, `DepTime` is the departure time in a numeric representation in 2400 hours."
      ]
    },
    {
      "cell_type": "markdown",
      "metadata": {
        "id": "gtZS4-hrlQah"
      },
      "source": [
        " **<font color='teal'>The response variable is 'dep_delayed_15min' which is a categorical column, so we need to map the Y for yes and N for no values to 1 and 0. Run the code in the next cell to do this.</font>**"
      ]
    },
    {
      "cell_type": "code",
      "execution_count": 19,
      "metadata": {
        "ExecuteTime": {
          "end_time": "2019-04-22T15:38:42.677690Z",
          "start_time": "2019-04-22T15:38:42.481963Z"
        },
        "id": "yRlOTbnW-KYc"
      },
      "outputs": [],
      "source": [
        "#train_df = train_df[train_df.DepTime <= 2400].copy()\n",
        "y_train = train_df['dep_delayed_15min'].map({'Y': 1, 'N': 0}).values"
      ]
    },
    {
      "cell_type": "markdown",
      "metadata": {
        "id": "z3WPkFQO9uo9"
      },
      "source": [
        "## Feature Engineering\n",
        "Use these defined functions to create additional features for the model. Run the cell to add the functions to your workspace."
      ]
    },
    {
      "cell_type": "code",
      "execution_count": 20,
      "metadata": {
        "id": "cXqsqz5W9t3r"
      },
      "outputs": [],
      "source": [
        "def label_enc(df_column):\n",
        "    df_column = LabelEncoder().fit_transform(df_column)\n",
        "    return df_column\n",
        "\n",
        "def make_harmonic_features_sin(value, period=2400):\n",
        "    value *= 2 * np.pi / period\n",
        "    return np.sin(value)\n",
        "\n",
        "def make_harmonic_features_cos(value, period=2400):\n",
        "    value *= 2 * np.pi / period\n",
        "    return np.cos(value)\n",
        "\n",
        "def feature_eng(df):\n",
        "    df['flight'] = df['Origin']+df['Dest']\n",
        "    df['Month'] = df.Month.map(lambda x: x.split('-')[-1]).astype('int32')\n",
        "    df['DayofMonth'] = df.DayofMonth.map(lambda x: x.split('-')[-1]).astype('uint8')\n",
        "    df['begin_of_month'] = (df['DayofMonth'] < 10).astype('uint8')\n",
        "    df['midddle_of_month'] = ((df['DayofMonth'] >= 10)&(df['DayofMonth'] < 20)).astype('uint8')\n",
        "    df['end_of_month'] = (df['DayofMonth'] >= 20).astype('uint8')\n",
        "    df['DayOfWeek'] = df.DayOfWeek.map(lambda x: x.split('-')[-1]).astype('uint8')\n",
        "    df['hour'] = df.DepTime.map(lambda x: x/100).astype('int32')\n",
        "    df['morning'] = df['hour'].map(lambda x: 1 if (x <= 11)& (x >= 7) else 0).astype('uint8')\n",
        "    df['day'] = df['hour'].map(lambda x: 1 if (x >= 12) & (x <= 18) else 0).astype('uint8')\n",
        "    df['evening'] = df['hour'].map(lambda x: 1 if (x >= 19) & (x <= 23) else 0).astype('uint8')\n",
        "    df['night'] = df['hour'].map(lambda x: 1 if (x >= 0) & (x <= 6) else 0).astype('int32')\n",
        "    df['winter'] = df['Month'].map(lambda x: x in [12, 1, 2]).astype('int32')\n",
        "    df['spring'] = df['Month'].map(lambda x: x in [3, 4, 5]).astype('int32')\n",
        "    df['summer'] = df['Month'].map(lambda x: x in [6, 7, 8]).astype('int32')\n",
        "    df['autumn'] = df['Month'].map(lambda x: x in [9, 10, 11]).astype('int32')\n",
        "    df['holiday'] = (df['DayOfWeek'] >= 5).astype(int)\n",
        "    df['weekday'] = (df['DayOfWeek'] < 5).astype(int)\n",
        "    df['airport_dest_per_month'] = df.groupby(['Dest', 'Month'])['Dest'].transform('count')\n",
        "    df['airport_origin_per_month'] = df.groupby(['Origin', 'Month'])['Origin'].transform('count')\n",
        "    df['airport_dest_count'] = df.groupby(['Dest'])['Dest'].transform('count')\n",
        "    df['airport_origin_count'] = df.groupby(['Origin'])['Origin'].transform('count')\n",
        "    df['carrier_count'] = df.groupby(['UniqueCarrier'])['Dest'].transform('count')\n",
        "    df['carrier_count_per month'] = df.groupby(['UniqueCarrier', 'Month'])['Dest'].transform('count')\n",
        "    df['deptime_cos'] = df['DepTime'].map(make_harmonic_features_cos)\n",
        "    df['deptime_sin'] = df['DepTime'].map(make_harmonic_features_sin)\n",
        "    df['flightUC'] = df['flight']+df['UniqueCarrier']\n",
        "    df['DestUC'] = df['Dest']+df['UniqueCarrier']\n",
        "    df['OriginUC'] = df['Origin']+df['UniqueCarrier']\n",
        "    return df.drop('DepTime', axis=1)"
      ]
    },
    {
      "cell_type": "markdown",
      "metadata": {
        "id": "-BYbxXpU-FGE"
      },
      "source": [
        "Concatenate the training and testing dataframes.\n"
      ]
    },
    {
      "cell_type": "code",
      "execution_count": 21,
      "metadata": {
        "id": "Cj6bfSNw_RAf"
      },
      "outputs": [],
      "source": [
        "full_df = pd.concat([train_df.drop('dep_delayed_15min', axis=1), test_df])\n",
        "full_df = feature_eng(full_df)"
      ]
    },
    {
      "cell_type": "code",
      "source": [
        "full_df.head()"
      ],
      "metadata": {
        "colab": {
          "base_uri": "https://localhost:8080/",
          "height": 273
        },
        "id": "1YnG4mRaWOW_",
        "outputId": "1a575dc5-6536-4f7b-e509-cedaaf37e732"
      },
      "execution_count": 22,
      "outputs": [
        {
          "output_type": "execute_result",
          "data": {
            "text/plain": [
              "   Month  DayofMonth  DayOfWeek UniqueCarrier Origin Dest  Distance  flight  \\\n",
              "0      8          21          7            AA    ATL  DFW       732  ATLDFW   \n",
              "1      4          20          3            US    PIT  MCO       834  PITMCO   \n",
              "2      9           2          5            XE    RDU  CLE       416  RDUCLE   \n",
              "3     11          25          6            OO    DEN  MEM       872  DENMEM   \n",
              "4     10           7          6            WN    MDW  OMA       423  MDWOMA   \n",
              "\n",
              "   begin_of_month  midddle_of_month  ...  airport_origin_per_month  \\\n",
              "0               0                 0  ...                      1019   \n",
              "1               0                 0  ...                       105   \n",
              "2               1                 0  ...                       136   \n",
              "3               0                 0  ...                       514   \n",
              "4               1                 0  ...                       226   \n",
              "\n",
              "   airport_dest_count  airport_origin_count  carrier_count  \\\n",
              "0                8290                 11387          18024   \n",
              "1                3523                  1390          13069   \n",
              "2                2247                  1747          11737   \n",
              "3                1785                  6222          15343   \n",
              "4                 687                  2571          30958   \n",
              "\n",
              "   carrier_count_per month  deptime_cos  deptime_sin  flightUC  DestUC  \\\n",
              "0                     1569     0.343660    -0.939094  ATLDFWAA   DFWAA   \n",
              "1                     1094    -0.612907    -0.790155  PITMCOUS   MCOUS   \n",
              "2                      977    -0.835807    -0.549023  RDUCLEXE   CLEXE   \n",
              "3                     1242    -0.884988     0.465615  DENMEMOO   MEMOO   \n",
              "4                     2674     0.073238    -0.997314  MDWOMAWN   OMAWN   \n",
              "\n",
              "   OriginUC  \n",
              "0     ATLAA  \n",
              "1     PITUS  \n",
              "2     RDUXE  \n",
              "3     DENOO  \n",
              "4     MDWWN  \n",
              "\n",
              "[5 rows x 33 columns]"
            ],
            "text/html": [
              "\n",
              "  <div id=\"df-86e3af39-0491-4ea1-8170-3ccd8bc0af47\" class=\"colab-df-container\">\n",
              "    <div>\n",
              "<style scoped>\n",
              "    .dataframe tbody tr th:only-of-type {\n",
              "        vertical-align: middle;\n",
              "    }\n",
              "\n",
              "    .dataframe tbody tr th {\n",
              "        vertical-align: top;\n",
              "    }\n",
              "\n",
              "    .dataframe thead th {\n",
              "        text-align: right;\n",
              "    }\n",
              "</style>\n",
              "<table border=\"1\" class=\"dataframe\">\n",
              "  <thead>\n",
              "    <tr style=\"text-align: right;\">\n",
              "      <th></th>\n",
              "      <th>Month</th>\n",
              "      <th>DayofMonth</th>\n",
              "      <th>DayOfWeek</th>\n",
              "      <th>UniqueCarrier</th>\n",
              "      <th>Origin</th>\n",
              "      <th>Dest</th>\n",
              "      <th>Distance</th>\n",
              "      <th>flight</th>\n",
              "      <th>begin_of_month</th>\n",
              "      <th>midddle_of_month</th>\n",
              "      <th>...</th>\n",
              "      <th>airport_origin_per_month</th>\n",
              "      <th>airport_dest_count</th>\n",
              "      <th>airport_origin_count</th>\n",
              "      <th>carrier_count</th>\n",
              "      <th>carrier_count_per month</th>\n",
              "      <th>deptime_cos</th>\n",
              "      <th>deptime_sin</th>\n",
              "      <th>flightUC</th>\n",
              "      <th>DestUC</th>\n",
              "      <th>OriginUC</th>\n",
              "    </tr>\n",
              "  </thead>\n",
              "  <tbody>\n",
              "    <tr>\n",
              "      <th>0</th>\n",
              "      <td>8</td>\n",
              "      <td>21</td>\n",
              "      <td>7</td>\n",
              "      <td>AA</td>\n",
              "      <td>ATL</td>\n",
              "      <td>DFW</td>\n",
              "      <td>732</td>\n",
              "      <td>ATLDFW</td>\n",
              "      <td>0</td>\n",
              "      <td>0</td>\n",
              "      <td>...</td>\n",
              "      <td>1019</td>\n",
              "      <td>8290</td>\n",
              "      <td>11387</td>\n",
              "      <td>18024</td>\n",
              "      <td>1569</td>\n",
              "      <td>0.343660</td>\n",
              "      <td>-0.939094</td>\n",
              "      <td>ATLDFWAA</td>\n",
              "      <td>DFWAA</td>\n",
              "      <td>ATLAA</td>\n",
              "    </tr>\n",
              "    <tr>\n",
              "      <th>1</th>\n",
              "      <td>4</td>\n",
              "      <td>20</td>\n",
              "      <td>3</td>\n",
              "      <td>US</td>\n",
              "      <td>PIT</td>\n",
              "      <td>MCO</td>\n",
              "      <td>834</td>\n",
              "      <td>PITMCO</td>\n",
              "      <td>0</td>\n",
              "      <td>0</td>\n",
              "      <td>...</td>\n",
              "      <td>105</td>\n",
              "      <td>3523</td>\n",
              "      <td>1390</td>\n",
              "      <td>13069</td>\n",
              "      <td>1094</td>\n",
              "      <td>-0.612907</td>\n",
              "      <td>-0.790155</td>\n",
              "      <td>PITMCOUS</td>\n",
              "      <td>MCOUS</td>\n",
              "      <td>PITUS</td>\n",
              "    </tr>\n",
              "    <tr>\n",
              "      <th>2</th>\n",
              "      <td>9</td>\n",
              "      <td>2</td>\n",
              "      <td>5</td>\n",
              "      <td>XE</td>\n",
              "      <td>RDU</td>\n",
              "      <td>CLE</td>\n",
              "      <td>416</td>\n",
              "      <td>RDUCLE</td>\n",
              "      <td>1</td>\n",
              "      <td>0</td>\n",
              "      <td>...</td>\n",
              "      <td>136</td>\n",
              "      <td>2247</td>\n",
              "      <td>1747</td>\n",
              "      <td>11737</td>\n",
              "      <td>977</td>\n",
              "      <td>-0.835807</td>\n",
              "      <td>-0.549023</td>\n",
              "      <td>RDUCLEXE</td>\n",
              "      <td>CLEXE</td>\n",
              "      <td>RDUXE</td>\n",
              "    </tr>\n",
              "    <tr>\n",
              "      <th>3</th>\n",
              "      <td>11</td>\n",
              "      <td>25</td>\n",
              "      <td>6</td>\n",
              "      <td>OO</td>\n",
              "      <td>DEN</td>\n",
              "      <td>MEM</td>\n",
              "      <td>872</td>\n",
              "      <td>DENMEM</td>\n",
              "      <td>0</td>\n",
              "      <td>0</td>\n",
              "      <td>...</td>\n",
              "      <td>514</td>\n",
              "      <td>1785</td>\n",
              "      <td>6222</td>\n",
              "      <td>15343</td>\n",
              "      <td>1242</td>\n",
              "      <td>-0.884988</td>\n",
              "      <td>0.465615</td>\n",
              "      <td>DENMEMOO</td>\n",
              "      <td>MEMOO</td>\n",
              "      <td>DENOO</td>\n",
              "    </tr>\n",
              "    <tr>\n",
              "      <th>4</th>\n",
              "      <td>10</td>\n",
              "      <td>7</td>\n",
              "      <td>6</td>\n",
              "      <td>WN</td>\n",
              "      <td>MDW</td>\n",
              "      <td>OMA</td>\n",
              "      <td>423</td>\n",
              "      <td>MDWOMA</td>\n",
              "      <td>1</td>\n",
              "      <td>0</td>\n",
              "      <td>...</td>\n",
              "      <td>226</td>\n",
              "      <td>687</td>\n",
              "      <td>2571</td>\n",
              "      <td>30958</td>\n",
              "      <td>2674</td>\n",
              "      <td>0.073238</td>\n",
              "      <td>-0.997314</td>\n",
              "      <td>MDWOMAWN</td>\n",
              "      <td>OMAWN</td>\n",
              "      <td>MDWWN</td>\n",
              "    </tr>\n",
              "  </tbody>\n",
              "</table>\n",
              "<p>5 rows × 33 columns</p>\n",
              "</div>\n",
              "    <div class=\"colab-df-buttons\">\n",
              "\n",
              "  <div class=\"colab-df-container\">\n",
              "    <button class=\"colab-df-convert\" onclick=\"convertToInteractive('df-86e3af39-0491-4ea1-8170-3ccd8bc0af47')\"\n",
              "            title=\"Convert this dataframe to an interactive table.\"\n",
              "            style=\"display:none;\">\n",
              "\n",
              "  <svg xmlns=\"http://www.w3.org/2000/svg\" height=\"24px\" viewBox=\"0 -960 960 960\">\n",
              "    <path d=\"M120-120v-720h720v720H120Zm60-500h600v-160H180v160Zm220 220h160v-160H400v160Zm0 220h160v-160H400v160ZM180-400h160v-160H180v160Zm440 0h160v-160H620v160ZM180-180h160v-160H180v160Zm440 0h160v-160H620v160Z\"/>\n",
              "  </svg>\n",
              "    </button>\n",
              "\n",
              "  <style>\n",
              "    .colab-df-container {\n",
              "      display:flex;\n",
              "      gap: 12px;\n",
              "    }\n",
              "\n",
              "    .colab-df-convert {\n",
              "      background-color: #E8F0FE;\n",
              "      border: none;\n",
              "      border-radius: 50%;\n",
              "      cursor: pointer;\n",
              "      display: none;\n",
              "      fill: #1967D2;\n",
              "      height: 32px;\n",
              "      padding: 0 0 0 0;\n",
              "      width: 32px;\n",
              "    }\n",
              "\n",
              "    .colab-df-convert:hover {\n",
              "      background-color: #E2EBFA;\n",
              "      box-shadow: 0px 1px 2px rgba(60, 64, 67, 0.3), 0px 1px 3px 1px rgba(60, 64, 67, 0.15);\n",
              "      fill: #174EA6;\n",
              "    }\n",
              "\n",
              "    .colab-df-buttons div {\n",
              "      margin-bottom: 4px;\n",
              "    }\n",
              "\n",
              "    [theme=dark] .colab-df-convert {\n",
              "      background-color: #3B4455;\n",
              "      fill: #D2E3FC;\n",
              "    }\n",
              "\n",
              "    [theme=dark] .colab-df-convert:hover {\n",
              "      background-color: #434B5C;\n",
              "      box-shadow: 0px 1px 3px 1px rgba(0, 0, 0, 0.15);\n",
              "      filter: drop-shadow(0px 1px 2px rgba(0, 0, 0, 0.3));\n",
              "      fill: #FFFFFF;\n",
              "    }\n",
              "  </style>\n",
              "\n",
              "    <script>\n",
              "      const buttonEl =\n",
              "        document.querySelector('#df-86e3af39-0491-4ea1-8170-3ccd8bc0af47 button.colab-df-convert');\n",
              "      buttonEl.style.display =\n",
              "        google.colab.kernel.accessAllowed ? 'block' : 'none';\n",
              "\n",
              "      async function convertToInteractive(key) {\n",
              "        const element = document.querySelector('#df-86e3af39-0491-4ea1-8170-3ccd8bc0af47');\n",
              "        const dataTable =\n",
              "          await google.colab.kernel.invokeFunction('convertToInteractive',\n",
              "                                                    [key], {});\n",
              "        if (!dataTable) return;\n",
              "\n",
              "        const docLinkHtml = 'Like what you see? Visit the ' +\n",
              "          '<a target=\"_blank\" href=https://colab.research.google.com/notebooks/data_table.ipynb>data table notebook</a>'\n",
              "          + ' to learn more about interactive tables.';\n",
              "        element.innerHTML = '';\n",
              "        dataTable['output_type'] = 'display_data';\n",
              "        await google.colab.output.renderOutput(dataTable, element);\n",
              "        const docLink = document.createElement('div');\n",
              "        docLink.innerHTML = docLinkHtml;\n",
              "        element.appendChild(docLink);\n",
              "      }\n",
              "    </script>\n",
              "  </div>\n",
              "\n",
              "\n",
              "<div id=\"df-1d1736ec-966e-4409-b444-b6813f3163a6\">\n",
              "  <button class=\"colab-df-quickchart\" onclick=\"quickchart('df-1d1736ec-966e-4409-b444-b6813f3163a6')\"\n",
              "            title=\"Suggest charts\"\n",
              "            style=\"display:none;\">\n",
              "\n",
              "<svg xmlns=\"http://www.w3.org/2000/svg\" height=\"24px\"viewBox=\"0 0 24 24\"\n",
              "     width=\"24px\">\n",
              "    <g>\n",
              "        <path d=\"M19 3H5c-1.1 0-2 .9-2 2v14c0 1.1.9 2 2 2h14c1.1 0 2-.9 2-2V5c0-1.1-.9-2-2-2zM9 17H7v-7h2v7zm4 0h-2V7h2v10zm4 0h-2v-4h2v4z\"/>\n",
              "    </g>\n",
              "</svg>\n",
              "  </button>\n",
              "\n",
              "<style>\n",
              "  .colab-df-quickchart {\n",
              "      --bg-color: #E8F0FE;\n",
              "      --fill-color: #1967D2;\n",
              "      --hover-bg-color: #E2EBFA;\n",
              "      --hover-fill-color: #174EA6;\n",
              "      --disabled-fill-color: #AAA;\n",
              "      --disabled-bg-color: #DDD;\n",
              "  }\n",
              "\n",
              "  [theme=dark] .colab-df-quickchart {\n",
              "      --bg-color: #3B4455;\n",
              "      --fill-color: #D2E3FC;\n",
              "      --hover-bg-color: #434B5C;\n",
              "      --hover-fill-color: #FFFFFF;\n",
              "      --disabled-bg-color: #3B4455;\n",
              "      --disabled-fill-color: #666;\n",
              "  }\n",
              "\n",
              "  .colab-df-quickchart {\n",
              "    background-color: var(--bg-color);\n",
              "    border: none;\n",
              "    border-radius: 50%;\n",
              "    cursor: pointer;\n",
              "    display: none;\n",
              "    fill: var(--fill-color);\n",
              "    height: 32px;\n",
              "    padding: 0;\n",
              "    width: 32px;\n",
              "  }\n",
              "\n",
              "  .colab-df-quickchart:hover {\n",
              "    background-color: var(--hover-bg-color);\n",
              "    box-shadow: 0 1px 2px rgba(60, 64, 67, 0.3), 0 1px 3px 1px rgba(60, 64, 67, 0.15);\n",
              "    fill: var(--button-hover-fill-color);\n",
              "  }\n",
              "\n",
              "  .colab-df-quickchart-complete:disabled,\n",
              "  .colab-df-quickchart-complete:disabled:hover {\n",
              "    background-color: var(--disabled-bg-color);\n",
              "    fill: var(--disabled-fill-color);\n",
              "    box-shadow: none;\n",
              "  }\n",
              "\n",
              "  .colab-df-spinner {\n",
              "    border: 2px solid var(--fill-color);\n",
              "    border-color: transparent;\n",
              "    border-bottom-color: var(--fill-color);\n",
              "    animation:\n",
              "      spin 1s steps(1) infinite;\n",
              "  }\n",
              "\n",
              "  @keyframes spin {\n",
              "    0% {\n",
              "      border-color: transparent;\n",
              "      border-bottom-color: var(--fill-color);\n",
              "      border-left-color: var(--fill-color);\n",
              "    }\n",
              "    20% {\n",
              "      border-color: transparent;\n",
              "      border-left-color: var(--fill-color);\n",
              "      border-top-color: var(--fill-color);\n",
              "    }\n",
              "    30% {\n",
              "      border-color: transparent;\n",
              "      border-left-color: var(--fill-color);\n",
              "      border-top-color: var(--fill-color);\n",
              "      border-right-color: var(--fill-color);\n",
              "    }\n",
              "    40% {\n",
              "      border-color: transparent;\n",
              "      border-right-color: var(--fill-color);\n",
              "      border-top-color: var(--fill-color);\n",
              "    }\n",
              "    60% {\n",
              "      border-color: transparent;\n",
              "      border-right-color: var(--fill-color);\n",
              "    }\n",
              "    80% {\n",
              "      border-color: transparent;\n",
              "      border-right-color: var(--fill-color);\n",
              "      border-bottom-color: var(--fill-color);\n",
              "    }\n",
              "    90% {\n",
              "      border-color: transparent;\n",
              "      border-bottom-color: var(--fill-color);\n",
              "    }\n",
              "  }\n",
              "</style>\n",
              "\n",
              "  <script>\n",
              "    async function quickchart(key) {\n",
              "      const quickchartButtonEl =\n",
              "        document.querySelector('#' + key + ' button');\n",
              "      quickchartButtonEl.disabled = true;  // To prevent multiple clicks.\n",
              "      quickchartButtonEl.classList.add('colab-df-spinner');\n",
              "      try {\n",
              "        const charts = await google.colab.kernel.invokeFunction(\n",
              "            'suggestCharts', [key], {});\n",
              "      } catch (error) {\n",
              "        console.error('Error during call to suggestCharts:', error);\n",
              "      }\n",
              "      quickchartButtonEl.classList.remove('colab-df-spinner');\n",
              "      quickchartButtonEl.classList.add('colab-df-quickchart-complete');\n",
              "    }\n",
              "    (() => {\n",
              "      let quickchartButtonEl =\n",
              "        document.querySelector('#df-1d1736ec-966e-4409-b444-b6813f3163a6 button');\n",
              "      quickchartButtonEl.style.display =\n",
              "        google.colab.kernel.accessAllowed ? 'block' : 'none';\n",
              "    })();\n",
              "  </script>\n",
              "</div>\n",
              "\n",
              "    </div>\n",
              "  </div>\n"
            ],
            "application/vnd.google.colaboratory.intrinsic+json": {
              "type": "dataframe",
              "variable_name": "full_df"
            }
          },
          "metadata": {},
          "execution_count": 22
        }
      ]
    },
    {
      "cell_type": "markdown",
      "metadata": {
        "id": "GSO8JbfM_W-F"
      },
      "source": [
        "Apply the earlier defined feature engineering functions to the full dataframe."
      ]
    },
    {
      "cell_type": "code",
      "execution_count": 23,
      "metadata": {
        "id": "x6RfAINftjwi"
      },
      "outputs": [],
      "source": [
        "for column in ['UniqueCarrier', 'Origin', 'Dest','flight',  'flightUC', 'DestUC', 'OriginUC']:\n",
        "    full_df[column] = label_enc(full_df[column])"
      ]
    },
    {
      "cell_type": "markdown",
      "metadata": {
        "id": "IJAw1RGB_ZuM"
      },
      "source": [
        "\n",
        "Split the new full dataframe into X_train and X_test."
      ]
    },
    {
      "cell_type": "code",
      "execution_count": 24,
      "metadata": {
        "id": "15cPtQU5tjfz"
      },
      "outputs": [],
      "source": [
        "X_train = full_df[:train_df.shape[0]]\n",
        "X_test = full_df[train_df.shape[0]:]"
      ]
    },
    {
      "cell_type": "markdown",
      "metadata": {
        "id": "umfAw-9JErLV"
      },
      "source": [
        "Create a list of the categorical features."
      ]
    },
    {
      "cell_type": "code",
      "execution_count": 25,
      "metadata": {
        "ExecuteTime": {
          "end_time": "2019-04-22T14:31:58.412296Z",
          "start_time": "2019-04-22T14:31:58.409088Z"
        },
        "id": "5ibeVyNb-KZI"
      },
      "outputs": [],
      "source": [
        "categorical_features = ['Month',  'DayOfWeek', 'UniqueCarrier', 'Origin', 'Dest','flight',  'flightUC', 'DestUC', 'OriginUC']"
      ]
    },
    {
      "cell_type": "markdown",
      "metadata": {
        "id": "NzMIsMPIETVk"
      },
      "source": [
        "Let's build a light GBM model to test the bayesian optimizer."
      ]
    },
    {
      "cell_type": "markdown",
      "metadata": {
        "ExecuteTime": {
          "end_time": "2019-04-22T15:18:04.466965Z",
          "start_time": "2019-04-22T15:18:04.457992Z"
        },
        "id": "2hfm1i5G-KZH"
      },
      "source": [
        "### [LightGBM](https://lightgbm.readthedocs.io/en/latest/) is a gradient boosting framework that uses tree-based learning algorithms. It is designed to be distributed and efficient with the following advantages:\n",
        "\n",
        "* Faster training speed and higher efficiency.\n",
        "* Lower memory usage.\n",
        "* Better accuracy.\n",
        "* Support of parallel and GPU learning.\n",
        "* Capable of handling large-scale data."
      ]
    },
    {
      "cell_type": "markdown",
      "metadata": {
        "id": "jf-3F2Wg-KZL"
      },
      "source": [
        "First, we define the function we want to maximize and that will count cross-validation metrics of lightGBM for our parameters.\n",
        "\n",
        "Some params such as num_leaves, max_depth, min_child_samples, min_data_in_leaf should be integers."
      ]
    },
    {
      "cell_type": "code",
      "execution_count": 26,
      "metadata": {
        "ExecuteTime": {
          "end_time": "2019-04-22T15:40:14.034265Z",
          "start_time": "2019-04-22T15:40:14.027868Z"
        },
        "id": "LyUJBhGX-KZM"
      },
      "outputs": [],
      "source": [
        "def lgb_eval(num_leaves,max_depth,lambda_l2,lambda_l1,min_child_samples, min_data_in_leaf):\n",
        "    params = {\n",
        "        \"objective\" : \"binary\",\n",
        "        \"metric\" : \"auc\",\n",
        "        'is_unbalance': True,\n",
        "        \"num_leaves\" : int(num_leaves),\n",
        "        \"max_depth\" : int(max_depth),\n",
        "        \"lambda_l2\" : lambda_l2,\n",
        "        \"lambda_l1\" : lambda_l1,\n",
        "        \"num_threads\" : 20,\n",
        "        \"min_child_samples\" : int(min_child_samples),\n",
        "        'min_data_in_leaf': int(min_data_in_leaf),\n",
        "        \"learning_rate\" : 0.03,\n",
        "        \"subsample_freq\" : 5,\n",
        "        \"bagging_seed\" : 42,\n",
        "        \"verbosity\" : -1\n",
        "    }\n",
        "    lgtrain = lightgbm.Dataset(X_train, y_train,categorical_feature=categorical_features)\n",
        "    cv_result = lightgbm.cv(params,\n",
        "                       lgtrain,\n",
        "                       1000,\n",
        "                       stratified=True,\n",
        "                       nfold=3)\n",
        "    return cv_result['valid auc-mean'][-1]"
      ]
    },
    {
      "cell_type": "markdown",
      "metadata": {
        "id": "FJwqBhdeF11Q"
      },
      "source": [
        "Apply the Bayesian optimizer to the function we created in the previous step to identify the best hyperparameters. We will run 5 iterations and set init_points = 2.\n"
      ]
    },
    {
      "cell_type": "code",
      "execution_count": 27,
      "metadata": {
        "ExecuteTime": {
          "end_time": "2019-04-22T15:48:04.682447Z",
          "start_time": "2019-04-22T15:40:14.641634Z"
        },
        "colab": {
          "base_uri": "https://localhost:8080/"
        },
        "id": "JheCOkUE-KZP",
        "outputId": "1f00fe29-3126-4a6d-dc6f-350773325841"
      },
      "outputs": [
        {
          "output_type": "stream",
          "name": "stdout",
          "text": [
            "|   iter    |  target   | lambda_l1 | lambda_l2 | max_depth | min_ch... | min_da... | num_le... |\n",
            "-------------------------------------------------------------------------------------------------\n",
            "| \u001b[39m1        \u001b[39m | \u001b[39m0.704    \u001b[39m | \u001b[39m0.03294  \u001b[39m | \u001b[39m0.01012  \u001b[39m | \u001b[39m30.4     \u001b[39m | \u001b[39m7.404e+03\u001b[39m | \u001b[39m226.4    \u001b[39m | \u001b[39m229.5    \u001b[39m |\n",
            "| \u001b[35m2        \u001b[39m | \u001b[35m0.7435   \u001b[39m | \u001b[35m0.03349  \u001b[39m | \u001b[35m0.04364  \u001b[39m | \u001b[35m22.64    \u001b[39m | \u001b[35m4.379e+03\u001b[39m | \u001b[35m1.687e+03\u001b[39m | \u001b[35m2.006e+03\u001b[39m |\n",
            "| \u001b[39m3        \u001b[39m | \u001b[39m0.7435   \u001b[39m | \u001b[39m0.0226   \u001b[39m | \u001b[39m0.02338  \u001b[39m | \u001b[39m51.15    \u001b[39m | \u001b[39m4.507e+03\u001b[39m | \u001b[39m1.93e+03 \u001b[39m | \u001b[39m1.566e+03\u001b[39m |\n",
            "| \u001b[35m4        \u001b[39m | \u001b[35m0.7436   \u001b[39m | \u001b[35m0.03832  \u001b[39m | \u001b[35m0.00642  \u001b[39m | \u001b[35m14.54    \u001b[39m | \u001b[35m1.239e+03\u001b[39m | \u001b[35m1.986e+03\u001b[39m | \u001b[35m1.198e+03\u001b[39m |\n",
            "| \u001b[39m5        \u001b[39m | \u001b[39m0.7006   \u001b[39m | \u001b[39m0.008084 \u001b[39m | \u001b[39m0.005426 \u001b[39m | \u001b[39m20.26    \u001b[39m | \u001b[39m211.3    \u001b[39m | \u001b[39m348.4    \u001b[39m | \u001b[39m3.974e+03\u001b[39m |\n",
            "| \u001b[39m6        \u001b[39m | \u001b[39m0.7179   \u001b[39m | \u001b[39m0.001561 \u001b[39m | \u001b[39m0.03824  \u001b[39m | \u001b[39m31.42    \u001b[39m | \u001b[39m6.895e+03\u001b[39m | \u001b[39m604.5    \u001b[39m | \u001b[39m1.945e+03\u001b[39m |\n",
            "| \u001b[39m7        \u001b[39m | \u001b[39m0.702    \u001b[39m | \u001b[39m0.007201 \u001b[39m | \u001b[39m0.02722  \u001b[39m | \u001b[39m38.25    \u001b[39m | \u001b[39m2.54e+03 \u001b[39m | \u001b[39m449.3    \u001b[39m | \u001b[39m31.22    \u001b[39m |\n",
            "=================================================================================================\n"
          ]
        }
      ],
      "source": [
        "lgbBO = BayesianOptimization(lgb_eval, {'num_leaves': (25, 4000),\n",
        "                                                'max_depth': (5, 63),\n",
        "                                                'lambda_l2': (0.0, 0.05),\n",
        "                                                'lambda_l1': (0.0, 0.05),\n",
        "                                                'min_child_samples': (50, 10000),\n",
        "                                                'min_data_in_leaf': (100, 2000)\n",
        "                                                })\n",
        "\n",
        "lgbBO.maximize(n_iter=5, init_points=2)"
      ]
    },
    {
      "cell_type": "markdown",
      "metadata": {
        "id": "rdkxhhST-KZS"
      },
      "source": [
        " **<font color='teal'> Print the best result by using the '.max' function.</font>**"
      ]
    },
    {
      "cell_type": "code",
      "execution_count": 28,
      "metadata": {
        "ExecuteTime": {
          "end_time": "2019-04-22T15:49:01.513767Z",
          "start_time": "2019-04-22T15:49:01.509392Z"
        },
        "colab": {
          "base_uri": "https://localhost:8080/"
        },
        "id": "oc8z6mfy-KZS",
        "outputId": "47091431-e804-4f8b-dd71-a46fe6d8f654"
      },
      "outputs": [
        {
          "data": {
            "text/plain": [
              "{'target': 0.7435673004252784,\n",
              " 'params': {'lambda_l1': 0.038320687970296446,\n",
              "  'lambda_l2': 0.006420201627679312,\n",
              "  'max_depth': 14.535832946315379,\n",
              "  'min_child_samples': 1238.67458454777,\n",
              "  'min_data_in_leaf': 1985.947719769361,\n",
              "  'num_leaves': 1197.6925087940901}}"
            ]
          },
          "execution_count": 28,
          "metadata": {},
          "output_type": "execute_result"
        }
      ],
      "source": [
        "lgbBO.max"
      ]
    },
    {
      "cell_type": "markdown",
      "metadata": {
        "ExecuteTime": {
          "end_time": "2019-04-22T15:50:29.049881Z",
          "start_time": "2019-04-22T15:50:29.045908Z"
        },
        "id": "J5LAydKC-KZW"
      },
      "source": [
        "Review the process at each step by using the '.res[0]' function."
      ]
    },
    {
      "cell_type": "code",
      "execution_count": 29,
      "metadata": {
        "ExecuteTime": {
          "end_time": "2019-04-22T15:51:01.001688Z",
          "start_time": "2019-04-22T15:51:00.997484Z"
        },
        "colab": {
          "base_uri": "https://localhost:8080/"
        },
        "id": "X1ttZmrI-KZX",
        "outputId": "a7ab7467-f27c-43d4-eeae-f2ba5c6a5f11"
      },
      "outputs": [
        {
          "data": {
            "text/plain": [
              "{'target': 0.70399823068202,\n",
              " 'params': {'lambda_l1': 0.032935761845065026,\n",
              "  'lambda_l2': 0.010122006944026886,\n",
              "  'max_depth': 30.400559367225043,\n",
              "  'min_child_samples': 7403.681728778239,\n",
              "  'min_data_in_leaf': 226.3694732529744,\n",
              "  'num_leaves': 229.4979546636104}}"
            ]
          },
          "execution_count": 29,
          "metadata": {},
          "output_type": "execute_result"
        }
      ],
      "source": [
        "lgbBO.res[0]"
      ]
    }
  ],
  "metadata": {
    "colab": {
      "provenance": [],
      "gpuType": "T4",
      "include_colab_link": true
    },
    "deepnote_execution_queue": [],
    "kernelspec": {
      "display_name": "Python 3",
      "name": "python3"
    },
    "language_info": {
      "codemirror_mode": {
        "name": "ipython",
        "version": 3
      },
      "file_extension": ".py",
      "mimetype": "text/x-python",
      "name": "python",
      "nbconvert_exporter": "python",
      "pygments_lexer": "ipython3",
      "version": "3.10.13"
    },
    "varInspector": {
      "cols": {
        "lenName": 16,
        "lenType": 16,
        "lenVar": 40
      },
      "kernels_config": {
        "python": {
          "delete_cmd_postfix": "",
          "delete_cmd_prefix": "del ",
          "library": "var_list.py",
          "varRefreshCmd": "print(var_dic_list())"
        },
        "r": {
          "delete_cmd_postfix": ") ",
          "delete_cmd_prefix": "rm(",
          "library": "var_list.r",
          "varRefreshCmd": "cat(var_dic_list()) "
        }
      },
      "types_to_exclude": [
        "module",
        "function",
        "builtin_function_or_method",
        "instance",
        "_Feature"
      ],
      "window_display": false
    },
    "accelerator": "GPU"
  },
  "nbformat": 4,
  "nbformat_minor": 0
}