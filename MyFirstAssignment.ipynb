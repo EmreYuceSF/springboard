{
 "cells": [
  {
   "cell_type": "markdown",
   "id": "27b2f995-c65e-4150-9b81-9cbd9810101e",
   "metadata": {},
   "source": [
    "# This is a test for a github repository"
   ]
  },
  {
   "cell_type": "code",
   "execution_count": 3,
   "id": "ee906308-8f47-4432-bafb-b8c78e719bec",
   "metadata": {},
   "outputs": [
    {
     "name": "stdout",
     "output_type": "stream",
     "text": [
      "Hello Spring Board!\n"
     ]
    }
   ],
   "source": [
    "print(\"Hello Spring Board!\")"
   ]
  },
  {
   "cell_type": "code",
   "execution_count": null,
   "id": "ddc154c5-3032-4e3c-b1a5-a4c4e003e936",
   "metadata": {},
   "outputs": [],
   "source": []
  }
 ],
 "metadata": {
  "kernelspec": {
   "display_name": "Python 3 (ipykernel)",
   "language": "python",
   "name": "python3"
  },
  "language_info": {
   "codemirror_mode": {
    "name": "ipython",
    "version": 3
   },
   "file_extension": ".py",
   "mimetype": "text/x-python",
   "name": "python",
   "nbconvert_exporter": "python",
   "pygments_lexer": "ipython3",
   "version": "3.9.7"
  }
 },
 "nbformat": 4,
 "nbformat_minor": 5
}
