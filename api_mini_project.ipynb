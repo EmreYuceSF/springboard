{
 "cells": [
  {
   "cell_type": "markdown",
   "metadata": {},
   "source": [
    "Collect data from the Franfurt Stock Exchange, for the ticker AFX_X, for the whole year 2017 (keep in mind that the date format is YYYY-MM-DD).\n",
    "Convert the returned JSON object into a Python dictionary.\n",
    "Calculate what the highest and lowest opening prices were for the stock in this period.\n",
    "What was the largest change in any one day (based on High and Low price)?\n",
    "What was the largest change between any two days (based on Closing Price)?\n",
    "What was the average daily trading volume during this year?\n",
    "(Optional) What was the median trading volume during this year. (Note: you may need to implement your own function for calculating the median.)"
   ]
  },
  {
   "cell_type": "code",
   "execution_count": 1,
   "metadata": {},
   "outputs": [],
   "source": [
    "import os \n",
    "from dotenv import load_dotenv\n",
    "import requests\n",
    "import datetime\n",
    "import json\n",
    "import matplotlib.pyplot as plt\n",
    "\n",
    "load_dotenv()\n",
    "API_KEYS = os.getenv('NASDAQ_API_KEY')\n"
   ]
  },
  {
   "cell_type": "code",
   "execution_count": 2,
   "metadata": {},
   "outputs": [],
   "source": [
    "past = datetime.datetime.now() - datetime.timedelta(days=365*10)\n",
    "past_time = past.strftime('%Y-%m-%d')\n",
    "next_day = past + datetime.timedelta(days=1)"
   ]
  },
  {
   "cell_type": "code",
   "execution_count": 3,
   "metadata": {},
   "outputs": [],
   "source": [
    "data = 'AFX_X'\n",
    "dataset = 'FSE'"
   ]
  },
  {
   "cell_type": "code",
   "execution_count": 4,
   "metadata": {},
   "outputs": [],
   "source": [
    "r=requests.get(f\"https://data.nasdaq.com/api/v3/datasets/{dataset}/{data}.json?&start_date={past_time}&end_date={next_day}&api_key={API_KEYS}\")"
   ]
  },
  {
   "cell_type": "code",
   "execution_count": 5,
   "metadata": {},
   "outputs": [],
   "source": [
    "dict_obj = json.loads(r.text)"
   ]
  },
  {
   "cell_type": "code",
   "execution_count": 6,
   "metadata": {},
   "outputs": [
    {
     "data": {
      "text/plain": [
       "{'dataset': {'id': 10095370,\n",
       "  'dataset_code': 'AFX_X',\n",
       "  'database_code': 'FSE',\n",
       "  'name': 'Carl Zeiss Meditec (AFX_X)',\n",
       "  'description': 'Stock Prices for Carl Zeiss Meditec (2020-11-02) from the Frankfurt Stock Exchange.<br><br>Trading System: Xetra<br><br>ISIN: DE0005313704',\n",
       "  'refreshed_at': '2020-12-01T14:48:09.907Z',\n",
       "  'newest_available_date': '2020-12-01',\n",
       "  'oldest_available_date': '2000-06-07',\n",
       "  'column_names': ['Date',\n",
       "   'Open',\n",
       "   'High',\n",
       "   'Low',\n",
       "   'Close',\n",
       "   'Change',\n",
       "   'Traded Volume',\n",
       "   'Turnover',\n",
       "   'Last Price of the Day',\n",
       "   'Daily Traded Units',\n",
       "   'Daily Turnover'],\n",
       "  'frequency': 'daily',\n",
       "  'type': 'Time Series',\n",
       "  'premium': False,\n",
       "  'limit': None,\n",
       "  'transform': None,\n",
       "  'column_index': None,\n",
       "  'start_date': '2014-07-02',\n",
       "  'end_date': '2014-07-03',\n",
       "  'data': [['2014-07-03',\n",
       "    22.4,\n",
       "    22.8,\n",
       "    22.38,\n",
       "    22.69,\n",
       "    None,\n",
       "    49106.0,\n",
       "    1112606.0,\n",
       "    None,\n",
       "    None,\n",
       "    None],\n",
       "   ['2014-07-02',\n",
       "    22.19,\n",
       "    22.38,\n",
       "    22.16,\n",
       "    22.35,\n",
       "    None,\n",
       "    23859.0,\n",
       "    532400.0,\n",
       "    None,\n",
       "    None,\n",
       "    None]],\n",
       "  'collapse': None,\n",
       "  'order': None,\n",
       "  'database_id': 6129}}"
      ]
     },
     "execution_count": 6,
     "metadata": {},
     "output_type": "execute_result"
    }
   ],
   "source": [
    "dict_obj"
   ]
  },
  {
   "cell_type": "markdown",
   "metadata": {},
   "source": [
    "### 1. Collect data from the Franfurt Stock Exchange, for the ticker AFX_X, for the whole year 2017 (keep in mind that the date format is YYYY-MM-DD)."
   ]
  },
  {
   "cell_type": "code",
   "execution_count": 7,
   "metadata": {},
   "outputs": [],
   "source": [
    "r=requests.get(f\"https://data.nasdaq.com/api/v3/datasets/{dataset}/{data}.json?&start_date=2017-01-01&end_date=2017-12-31&api_key={API_KEYS}\")"
   ]
  },
  {
   "cell_type": "markdown",
   "metadata": {},
   "source": [
    "### 2. Convert the returned JSON object into a Python dictionary"
   ]
  },
  {
   "cell_type": "code",
   "execution_count": 8,
   "metadata": {},
   "outputs": [],
   "source": [
    "zeiss_2017 = json.loads(r.text)"
   ]
  },
  {
   "cell_type": "code",
   "execution_count": 9,
   "metadata": {},
   "outputs": [
    {
     "name": "stdout",
     "output_type": "stream",
     "text": [
      "[('Date', 0), ('Open', 3), ('High', 0), ('Low', 0), ('Close', 0), ('Change', 254), ('Traded Volume', 0), ('Turnover', 0), ('Last Price of the Day', 255), ('Daily Traded Units', 255), ('Daily Turnover', 255)]\n"
     ]
    }
   ],
   "source": [
    "def empty_count(size:int, data: list, columns:list):\n",
    "    empty_columns_count = [0]*size\n",
    "    for i in range(len(data)):\n",
    "        for j in range(size):\n",
    "            if data[i][j] == None:\n",
    "                empty_columns_count[j]+=1\n",
    "    empty_columns_count = list(zip(columns, empty_columns_count))\n",
    "    return empty_columns_count\n",
    "\n",
    "\n",
    "print(empty_count(11, zeiss_2017['dataset']['data'], zeiss_2017['dataset']['column_names']))"
   ]
  },
  {
   "cell_type": "markdown",
   "metadata": {},
   "source": [
    "#### We can see that there are columns with no data or almost no data, so we can remove them. There are also three missing values in the 'Open' column, which we will address shortly."
   ]
  },
  {
   "cell_type": "code",
   "execution_count": 10,
   "metadata": {},
   "outputs": [
    {
     "data": {
      "text/plain": [
       "['Date', 'Open', 'High', 'Low', 'Close', 'Traded Volume']"
      ]
     },
     "execution_count": 10,
     "metadata": {},
     "output_type": "execute_result"
    }
   ],
   "source": [
    "# columns list will hold only column names \n",
    "columns = zeiss_2017['dataset']['column_names'][:5]+zeiss_2017['dataset']['column_names'][6:7]\n",
    "columns"
   ]
  },
  {
   "cell_type": "code",
   "execution_count": 11,
   "metadata": {},
   "outputs": [],
   "source": [
    "\n",
    "data_dict_2017 = {}\n",
    "for column in columns:\n",
    "    data_dict_2017[column] = []\n",
    "a = 0\n",
    "\n",
    "for row in zeiss_2017['dataset']['data']:\n",
    "    \n",
    "    for cell in row[:5]+row[6:7]:\n",
    "        try:\n",
    "            data_dict_2017[columns[a%6]].append(float(cell))\n",
    "        except:\n",
    "            data_dict_2017[columns[a%6]].append(cell)\n",
    "        a += 1\n"
   ]
  },
  {
   "cell_type": "code",
   "execution_count": 12,
   "metadata": {},
   "outputs": [
    {
     "name": "stdout",
     "output_type": "stream",
     "text": [
      "Date           Open           High           Low            Close          Traded Volume  \n",
      " ----------------------------------------------------------------------------------------------------\n",
      "2017-12-29     51.76          51.94          51.45          51.76          34640.0        \n",
      "2017-12-28     51.65          51.82          51.43          51.6           40660.0        \n",
      "2017-12-27     51.45          51.89          50.76          51.82          57452.0        \n",
      "2017-12-22     51.05          51.5           50.92          51.32          71165.0        \n"
     ]
    }
   ],
   "source": [
    "\n",
    "\n",
    "for key in data_dict_2017.keys():\n",
    "    print(f\"{key:<15}\", end=\"\")\n",
    "a = 0\n",
    "print('\\n','-'*100)\n",
    "while a<4:\n",
    "    for key in data_dict_2017.keys():\n",
    "        print(f'{data_dict_2017[key][a]:<15}', end=\"\")\n",
    "    print(\"\")    \n",
    "    a+=1 \n",
    "    \n",
    "\n",
    "    "
   ]
  },
  {
   "cell_type": "code",
   "execution_count": 13,
   "metadata": {},
   "outputs": [],
   "source": [
    "# we get the closing data from previous day for missing opening cells\n",
    "for i in range(len(data_dict_2017['Open'])-1,3,-1):\n",
    "    if data_dict_2017['Open'][i] == None:\n",
    "        data_dict_2017['Open'][i] = data_dict_2017['Close'][i-1]\n",
    "            "
   ]
  },
  {
   "cell_type": "code",
   "execution_count": 14,
   "metadata": {},
   "outputs": [],
   "source": [
    "#  I will also keep list version of data for some calculations\n",
    "data_list = list(zip(*[data_dict_2017[key] for key in data_dict_2017.keys()]))\n",
    "    "
   ]
  },
  {
   "cell_type": "markdown",
   "metadata": {},
   "source": [
    "### 3. Calculate what the highest and lowest opening prices were for the stock in this period."
   ]
  },
  {
   "cell_type": "code",
   "execution_count": 15,
   "metadata": {},
   "outputs": [],
   "source": [
    "sorted_data_list =sorted(data_list, key= lambda x: x[1])"
   ]
  },
  {
   "cell_type": "code",
   "execution_count": 16,
   "metadata": {},
   "outputs": [
    {
     "name": "stdout",
     "output_type": "stream",
     "text": [
      "('2017-01-24', 34.0, 34.35, 33.85, 34.22, 48797.0)\n",
      "('2017-01-23', 34.04, 34.12, 33.62, 34.06, 55333.0)\n",
      "('2017-01-25', 34.42, 34.86, 34.03, 34.83, 56240.0)\n",
      "('2017-01-20', 34.54, 34.59, 34.05, 34.17, 80246.0)\n",
      "('2017-02-01', 34.75, 36.0, 34.75, 35.94, 85137.0)\n",
      "('2017-01-10', 34.8, 34.98, 34.46, 34.91, 43976.0)\n",
      "('2017-01-27', 34.83, 35.43, 34.81, 35.3, 69657.0)\n",
      "('2017-01-16', 34.85, 35.24, 34.56, 35.07, 47879.0)\n",
      "('2017-01-06', 34.91, 35.21, 34.91, 35.04, 27507.0)\n",
      "('2017-01-11', 34.95, 36.0, 34.84, 35.42, 123530.0)\n"
     ]
    }
   ],
   "source": [
    "for row in sorted_data_list[:10]:\n",
    "    print(row)"
   ]
  },
  {
   "cell_type": "code",
   "execution_count": 17,
   "metadata": {},
   "outputs": [
    {
     "name": "stdout",
     "output_type": "stream",
     "text": [
      "Highest opening for Zeiss in year 2017 is $53.11 on 2017-12-14\n",
      "Lowest opening for Zeiss in year 2017 is $34.0 on 2017-01-24\n"
     ]
    }
   ],
   "source": [
    "#3.Calculate what the highest and lowest opening prices were for the stock in this period.\n",
    "\n",
    "print(f\"Highest opening for Zeiss in year 2017 is ${sorted_data_list[-1][1]} on {sorted_data_list[-1][0]}\")\n",
    "print(f\"Lowest opening for Zeiss in year 2017 is ${sorted_data_list[0][1]} on {sorted_data_list[0][0]}\")"
   ]
  },
  {
   "cell_type": "markdown",
   "metadata": {},
   "source": [
    "### 4.What was the largest change in any one day (based on High and Low price)?"
   ]
  },
  {
   "cell_type": "code",
   "execution_count": 18,
   "metadata": {},
   "outputs": [],
   "source": [
    "# 4.What was the largest change in any one day (based on High and Low price)?\n",
    "\n",
    "sorted_data_list_1  = sorted(data_list, key= lambda x: x[columns.index('High')]-x[columns.index('Low')]) "
   ]
  },
  {
   "cell_type": "code",
   "execution_count": 19,
   "metadata": {},
   "outputs": [
    {
     "data": {
      "image/png": "[encoded data removed]",
      "text/plain": [
       "<Figure size 640x480 with 1 Axes>"
      ]
     },
     "metadata": {},
     "output_type": "display_data"
    },
    {
     "name": "stdout",
     "output_type": "stream",
     "text": [
      "Largest change was 2.81 happend on 2017-05-11 with low: 43.25 and high: 46.06\n"
     ]
    }
   ],
   "source": [
    "plt.scatter(x=range(len(sorted_data_list_1)), y = [line[columns.index('High')]-line[columns.index('Low')] for line in sorted_data_list_1])\n",
    "plt.ylabel('High and low diffence')\n",
    "plt.title('This graphic demonstrates that our sorted data is accurate, with sorting based on the high-low difference')\n",
    "plt.show()\n",
    "print(f\"Largest change was {(high:=sorted_data_list_1[-1][columns.index('High')]) - (low:=sorted_data_list_1[-1][columns.index('Low')]):.2f}\",\n",
    "      f\"happend on {sorted_data_list_1[-1][0]}\",\n",
    "      f\"with low: {low}\",\n",
    "      f\"and high: {high}\")"
   ]
  },
  {
   "cell_type": "markdown",
   "metadata": {},
   "source": [
    "### 5. What was the largest change between any two days (based on Closing Price)?"
   ]
  },
  {
   "cell_type": "code",
   "execution_count": 20,
   "metadata": {},
   "outputs": [
    {
     "name": "stdout",
     "output_type": "stream",
     "text": [
      "The largest change occurred between 2017-05-11 and 2017-05-10, with a change of 1.72.\n"
     ]
    }
   ],
   "source": [
    "largest_change  = 0\n",
    "days = []\n",
    "\n",
    "for i in range(len(data_list)-1):\n",
    "    if ((change:=data_list[i][columns.index('Close')]  - data_list[i+1][columns.index('Close')])) > largest_change:\n",
    "        largest_change = change\n",
    "        days = [data_list[i][0], data_list[i+1][0]]\n",
    "print(f\"The largest change occurred between {days[0]} and {days[1]}, with a change of {largest_change:.2f}.\")"
   ]
  },
  {
   "cell_type": "markdown",
   "metadata": {},
   "source": [
    "### 6. What was the average daily trading volume during this year?"
   ]
  },
  {
   "cell_type": "code",
   "execution_count": 21,
   "metadata": {},
   "outputs": [
    {
     "name": "stdout",
     "output_type": "stream",
     "text": [
      "Average daily trading volume during year 2017 is 89124.34.\n"
     ]
    }
   ],
   "source": [
    "print(f\"Average daily trading volume during year 2017 is\", \n",
    "      f\"{sum(data_dict_2017['Traded Volume'])/len(data_dict_2017['Traded Volume']):.2f}.\")"
   ]
  },
  {
   "cell_type": "markdown",
   "metadata": {},
   "source": [
    "### 7.(Optional) What was the median trading volume during this year. (Note: you may need to implement your own function for calculating the median.)"
   ]
  },
  {
   "cell_type": "code",
   "execution_count": 22,
   "metadata": {},
   "outputs": [],
   "source": [
    "# 128th(127th index) element of the sorted list is median but lets create a fuction for that\n",
    "\n",
    "def find_median(data :list[float]) -> float:\n",
    "    data.sort()\n",
    "    if len(data)%2:\n",
    "        return data[(len(data)//2)]\n",
    "    else: \n",
    "        return  (data[(len(data)//2)] + data[(len(data)//2)-1])/2"
   ]
  },
  {
   "cell_type": "code",
   "execution_count": 23,
   "metadata": {},
   "outputs": [
    {
     "name": "stdout",
     "output_type": "stream",
     "text": [
      "76286.0\n"
     ]
    }
   ],
   "source": [
    "print(find_median(data_dict_2017['Traded Volume']))"
   ]
  },
  {
   "cell_type": "code",
   "execution_count": null,
   "metadata": {},
   "outputs": [],
   "source": []
  }
 ],
 "metadata": {
  "kernelspec": {
   "display_name": "Python 3",
   "language": "python",
   "name": "python3"
  },
  "language_info": {
   "codemirror_mode": {
    "name": "ipython",
    "version": 3
   },
   "file_extension": ".py",
   "mimetype": "text/x-python",
   "name": "python",
   "nbconvert_exporter": "python",
   "pygments_lexer": "ipython3",
   "version": "3.9.7"
  }
 },
 "nbformat": 4,
 "nbformat_minor": 2
}
